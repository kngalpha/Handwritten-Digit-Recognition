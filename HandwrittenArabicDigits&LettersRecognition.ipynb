{
 "cells": [
  {
   "cell_type": "markdown",
   "metadata": {
    "colab_type": "text",
    "id": "c6TiNABwkAhe"
   },
   "source": [
    "# Handwritten Arabic Digits & Letters Recognition"
   ]
  },
  {
   "cell_type": "markdown",
   "metadata": {},
   "source": [
    "## Submitted To Dr. Ghada Khoriba\n",
    "\n",
    "### **Contributers:**\n",
    "#### * **Nour Nasser**\n",
    "#### * **Abdalrahman Hassan**\n",
    "#### * **Ramez Shakran** \n",
    "#### * **Hussien Ehab** \n",
    "#### * **Mahmoud Ibrahim** "
   ]
  },
  {
   "cell_type": "markdown",
   "metadata": {
    "colab_type": "text",
    "id": "m6_ru2oupR7h"
   },
   "source": [
    "## Data Exploration\n"
   ]
  },
  {
   "cell_type": "markdown",
   "metadata": {
    "colab_type": "text",
    "id": "jJo8eDIRp5ku"
   },
   "source": [
    "1. Import libraries\n"
   ]
  },
  {
   "cell_type": "code",
   "execution_count": 1,
   "metadata": {
    "colab": {},
    "colab_type": "code",
    "id": "v3o6mEbK6W9v"
   },
   "outputs": [],
   "source": [
    "# Import main libraries necessary for this project\n",
    "import numpy as np\n",
    "import pandas as pd\n",
    "from IPython.display import display\n",
    "import csv\n",
    "from PIL import Image\n",
    "from scipy.ndimage import rotate\n",
    "import keras as keras\n",
    "import tensorflow as tf\n",
    "%matplotlib inline"
   ]
  },
  {
   "cell_type": "markdown",
   "metadata": {
    "colab_type": "text",
    "id": "rGcWZ2BBrLrr"
   },
   "source": [
    "### Loading Arabic Letters Dataset"
   ]
  },
  {
   "cell_type": "code",
   "execution_count": 2,
   "metadata": {
    "colab": {
     "base_uri": "https://localhost:8080/",
     "height": 287
    },
    "colab_type": "code",
    "id": "1MRwVjsDKpCN",
    "outputId": "ed64137f-e2f9-4908-b8ea-2b227519ce17"
   },
   "outputs": [
    {
     "name": "stdout",
     "output_type": "stream",
     "text": [
      "There are 13439 training arabic letter images of 64x64 pixels.\n",
      "There are 3359 testing arabic letter images of 64x64 pixels.\n"
     ]
    },
    {
     "data": {
      "text/html": [
       "<div>\n",
       "<style scoped>\n",
       "    .dataframe tbody tr th:only-of-type {\n",
       "        vertical-align: middle;\n",
       "    }\n",
       "\n",
       "    .dataframe tbody tr th {\n",
       "        vertical-align: top;\n",
       "    }\n",
       "\n",
       "    .dataframe thead th {\n",
       "        text-align: right;\n",
       "    }\n",
       "</style>\n",
       "<table border=\"1\" class=\"dataframe\">\n",
       "  <thead>\n",
       "    <tr style=\"text-align: right;\">\n",
       "      <th></th>\n",
       "      <th>0</th>\n",
       "      <th>0.1</th>\n",
       "      <th>0.2</th>\n",
       "      <th>0.3</th>\n",
       "      <th>0.4</th>\n",
       "      <th>0.5</th>\n",
       "      <th>0.6</th>\n",
       "      <th>0.7</th>\n",
       "      <th>0.8</th>\n",
       "      <th>0.9</th>\n",
       "      <th>...</th>\n",
       "      <th>0.3438</th>\n",
       "      <th>0.3439</th>\n",
       "      <th>0.3440</th>\n",
       "      <th>0.3441</th>\n",
       "      <th>0.3442</th>\n",
       "      <th>0.3443</th>\n",
       "      <th>0.3444</th>\n",
       "      <th>0.3445</th>\n",
       "      <th>0.3446</th>\n",
       "      <th>0.3447</th>\n",
       "    </tr>\n",
       "  </thead>\n",
       "  <tbody>\n",
       "    <tr>\n",
       "      <th>0</th>\n",
       "      <td>0</td>\n",
       "      <td>0</td>\n",
       "      <td>0</td>\n",
       "      <td>0</td>\n",
       "      <td>0</td>\n",
       "      <td>0</td>\n",
       "      <td>0</td>\n",
       "      <td>0</td>\n",
       "      <td>0</td>\n",
       "      <td>0</td>\n",
       "      <td>...</td>\n",
       "      <td>0</td>\n",
       "      <td>0</td>\n",
       "      <td>0</td>\n",
       "      <td>0</td>\n",
       "      <td>0</td>\n",
       "      <td>0</td>\n",
       "      <td>0</td>\n",
       "      <td>0</td>\n",
       "      <td>0</td>\n",
       "      <td>0</td>\n",
       "    </tr>\n",
       "    <tr>\n",
       "      <th>1</th>\n",
       "      <td>0</td>\n",
       "      <td>0</td>\n",
       "      <td>0</td>\n",
       "      <td>0</td>\n",
       "      <td>0</td>\n",
       "      <td>0</td>\n",
       "      <td>0</td>\n",
       "      <td>0</td>\n",
       "      <td>0</td>\n",
       "      <td>0</td>\n",
       "      <td>...</td>\n",
       "      <td>0</td>\n",
       "      <td>0</td>\n",
       "      <td>0</td>\n",
       "      <td>0</td>\n",
       "      <td>0</td>\n",
       "      <td>0</td>\n",
       "      <td>0</td>\n",
       "      <td>0</td>\n",
       "      <td>0</td>\n",
       "      <td>0</td>\n",
       "    </tr>\n",
       "    <tr>\n",
       "      <th>2</th>\n",
       "      <td>0</td>\n",
       "      <td>0</td>\n",
       "      <td>0</td>\n",
       "      <td>0</td>\n",
       "      <td>0</td>\n",
       "      <td>0</td>\n",
       "      <td>0</td>\n",
       "      <td>0</td>\n",
       "      <td>0</td>\n",
       "      <td>0</td>\n",
       "      <td>...</td>\n",
       "      <td>0</td>\n",
       "      <td>0</td>\n",
       "      <td>0</td>\n",
       "      <td>0</td>\n",
       "      <td>0</td>\n",
       "      <td>0</td>\n",
       "      <td>0</td>\n",
       "      <td>0</td>\n",
       "      <td>0</td>\n",
       "      <td>0</td>\n",
       "    </tr>\n",
       "    <tr>\n",
       "      <th>3</th>\n",
       "      <td>0</td>\n",
       "      <td>0</td>\n",
       "      <td>0</td>\n",
       "      <td>0</td>\n",
       "      <td>0</td>\n",
       "      <td>0</td>\n",
       "      <td>0</td>\n",
       "      <td>0</td>\n",
       "      <td>0</td>\n",
       "      <td>0</td>\n",
       "      <td>...</td>\n",
       "      <td>0</td>\n",
       "      <td>0</td>\n",
       "      <td>0</td>\n",
       "      <td>0</td>\n",
       "      <td>0</td>\n",
       "      <td>0</td>\n",
       "      <td>0</td>\n",
       "      <td>0</td>\n",
       "      <td>0</td>\n",
       "      <td>0</td>\n",
       "    </tr>\n",
       "    <tr>\n",
       "      <th>4</th>\n",
       "      <td>0</td>\n",
       "      <td>0</td>\n",
       "      <td>0</td>\n",
       "      <td>0</td>\n",
       "      <td>0</td>\n",
       "      <td>0</td>\n",
       "      <td>0</td>\n",
       "      <td>0</td>\n",
       "      <td>0</td>\n",
       "      <td>0</td>\n",
       "      <td>...</td>\n",
       "      <td>0</td>\n",
       "      <td>0</td>\n",
       "      <td>0</td>\n",
       "      <td>0</td>\n",
       "      <td>0</td>\n",
       "      <td>0</td>\n",
       "      <td>0</td>\n",
       "      <td>0</td>\n",
       "      <td>0</td>\n",
       "      <td>0</td>\n",
       "    </tr>\n",
       "  </tbody>\n",
       "</table>\n",
       "<p>5 rows × 4096 columns</p>\n",
       "</div>"
      ],
      "text/plain": [
       "   0  0.1  0.2  0.3  0.4  0.5  0.6  0.7  0.8  0.9  ...  0.3438  0.3439  \\\n",
       "0  0    0    0    0    0    0    0    0    0    0  ...       0       0   \n",
       "1  0    0    0    0    0    0    0    0    0    0  ...       0       0   \n",
       "2  0    0    0    0    0    0    0    0    0    0  ...       0       0   \n",
       "3  0    0    0    0    0    0    0    0    0    0  ...       0       0   \n",
       "4  0    0    0    0    0    0    0    0    0    0  ...       0       0   \n",
       "\n",
       "   0.3440  0.3441  0.3442  0.3443  0.3444  0.3445  0.3446  0.3447  \n",
       "0       0       0       0       0       0       0       0       0  \n",
       "1       0       0       0       0       0       0       0       0  \n",
       "2       0       0       0       0       0       0       0       0  \n",
       "3       0       0       0       0       0       0       0       0  \n",
       "4       0       0       0       0       0       0       0       0  \n",
       "\n",
       "[5 rows x 4096 columns]"
      ]
     },
     "execution_count": 2,
     "metadata": {},
     "output_type": "execute_result"
    }
   ],
   "source": [
    "# Loading dataset into dataframes\n",
    "training_letters_images = pd.read_csv('training images.csv')\n",
    "training_letters_labels = pd.read_csv('training labels.csv')\n",
    "testing_letters_images = pd.read_csv('testing images.csv')\n",
    "testing_letters_labels = pd.read_csv('testing labels.csv')\n",
    "\n",
    "# print statistics about the dataset\n",
    "print(\"There are %d training arabic letter images of 64x64 pixels.\" %training_letters_images.shape[0])\n",
    "print(\"There are %d testing arabic letter images of 64x64 pixels.\" %testing_letters_images.shape[0])\n",
    "training_letters_images.head()"
   ]
  },
  {
   "cell_type": "markdown",
   "metadata": {
    "colab_type": "text",
    "id": "KuPNRawns2BV"
   },
   "source": [
    "### Loading Arabic Digits Dataset"
   ]
  },
  {
   "cell_type": "code",
   "execution_count": 3,
   "metadata": {
    "colab": {
     "base_uri": "https://localhost:8080/",
     "height": 51
    },
    "colab_type": "code",
    "id": "Zyoid-WpLjXT",
    "outputId": "504deeac-a270-4927-b4c6-34ff7d9304c9"
   },
   "outputs": [
    {
     "name": "stdout",
     "output_type": "stream",
     "text": [
      "There are 59999 training arabic digit images of 64x64 pixels.\n",
      "There are 9999 testing arabic digit images of 64x64 pixels.\n"
     ]
    }
   ],
   "source": [
    "# Loading dataset into dataframes\n",
    "training_digits_images = pd.read_csv(\"training digits images.csv\")\n",
    "training_digits_labels = pd.read_csv(\"training digits labels.csv\")\n",
    "testing_digits_images = pd.read_csv(\"testing digits images.csv\")\n",
    "testing_digits_labels = pd.read_csv(\"testing digits labels.csv\")\n",
    "\n",
    "# print statistics about the dataset\n",
    "print(\"There are %d training arabic digit images of 64x64 pixels.\" %training_digits_images.shape[0])\n",
    "print(\"There are %d testing arabic digit images of 64x64 pixels.\" %testing_digits_images.shape[0])"
   ]
  },
  {
   "cell_type": "markdown",
   "metadata": {
    "colab_type": "text",
    "id": "LGFth_ks0VH4"
   },
   "source": [
    "### Convert csv values to an image \n",
    "Writting a method to be used later if we want visualization of an image from its pixels values."
   ]
  },
  {
   "cell_type": "code",
   "execution_count": 4,
   "metadata": {
    "colab": {},
    "colab_type": "code",
    "id": "2MbTUT_mMBGH"
   },
   "outputs": [],
   "source": [
    "from scipy.ndimage import rotate\n",
    "\n",
    "# Define function and its arguments\n",
    "def convertValuesToImages(image_values, display=False):\n",
    "    # Convert input values to numpy array with uint8 data type and reshape to (64, 64) shape\n",
    "    image_array = np.array(image_values, dtype=np.uint8).reshape(64, 64)\n",
    "\n",
    "    # Apply flip and rotation transformations to the input image array\n",
    "    # Flip along the vertical axis and rotate by 90 degrees clockwise\n",
    "    modified_image = np.rot90(np.fliplr(image_array))\n",
    "\n",
    "    # Display the modified image if the display argument is set to True\n",
    "    if display:\n",
    "        Image.fromarray(modified_image).show()\n",
    "\n",
    "    # Convert the modified image array to a PIL image object and return it\n",
    "    return Image.fromarray(modified_image)"
   ]
  },
  {
   "cell_type": "markdown",
   "metadata": {
    "colab_type": "text",
    "id": "MBwu1eDk0mjj"
   },
   "source": [
    "### Visualizing some examples"
   ]
  },
  {
   "cell_type": "code",
   "execution_count": 5,
   "metadata": {
    "colab": {
     "base_uri": "https://localhost:8080/",
     "height": 81
    },
    "colab_type": "code",
    "id": "pX4PxwqbyQg8",
    "outputId": "6433de79-c1f7-4c09-afc5-e17b782b8cc4"
   },
   "outputs": [
    {
     "data": {
      "image/png": "[encoded data removed]",
      "text/plain": [
       "<PIL.Image.Image image mode=L size=64x64>"
      ]
     },
     "execution_count": 5,
     "metadata": {},
     "output_type": "execute_result"
    }
   ],
   "source": [
    "convertValuesToImages(training_letters_images.loc[0], True)"
   ]
  },
  {
   "cell_type": "code",
   "execution_count": 6,
   "metadata": {
    "colab": {
     "base_uri": "https://localhost:8080/",
     "height": 81
    },
    "colab_type": "code",
    "id": "R0J_oTy0yeXb",
    "outputId": "77ab78b1-95e9-4c4e-dfcb-0a2dbbc9ab4e"
   },
   "outputs": [
    {
     "data": {
      "image/png": "[encoded data removed]",
      "text/plain": [
       "<PIL.Image.Image image mode=L size=64x64>"
      ]
     },
     "execution_count": 6,
     "metadata": {},
     "output_type": "execute_result"
    }
   ],
   "source": [
    "convertValuesToImages(training_letters_images.loc[12], True)"
   ]
  },
  {
   "cell_type": "code",
   "execution_count": 7,
   "metadata": {
    "colab": {
     "base_uri": "https://localhost:8080/",
     "height": 81
    },
    "colab_type": "code",
    "id": "IVwNBEIj2dcK",
    "outputId": "1d587abd-eee0-4c3d-c3bb-2ebf64c188b1"
   },
   "outputs": [
    {
     "data": {
      "image/png": "[encoded data removed]",
      "text/plain": [
       "<PIL.Image.Image image mode=L size=64x64>"
      ]
     },
     "execution_count": 7,
     "metadata": {},
     "output_type": "execute_result"
    }
   ],
   "source": [
    "convertValuesToImages(training_letters_images.loc[37], True)"
   ]
  },
  {
   "cell_type": "code",
   "execution_count": 8,
   "metadata": {
    "colab": {
     "base_uri": "https://localhost:8080/",
     "height": 81
    },
    "colab_type": "code",
    "id": "pNKxXW5-2fl9",
    "outputId": "d94f24dd-9059-48eb-f19e-b81cf97a5dc3"
   },
   "outputs": [
    {
     "data": {
      "image/png": "[encoded data removed]",
      "text/plain": [
       "<PIL.Image.Image image mode=L size=64x64>"
      ]
     },
     "execution_count": 8,
     "metadata": {},
     "output_type": "execute_result"
    }
   ],
   "source": [
    "convertValuesToImages(training_letters_images.loc[3000], True)"
   ]
  },
  {
   "cell_type": "code",
   "execution_count": 9,
   "metadata": {
    "colab": {
     "base_uri": "https://localhost:8080/",
     "height": 81
    },
    "colab_type": "code",
    "id": "FIYtePhT2iBr",
    "outputId": "d51afddf-7a83-4b04-c29f-a6ad3c1eb271"
   },
   "outputs": [
    {
     "data": {
      "image/png": "[encoded data removed]",
      "text/plain": [
       "<PIL.Image.Image image mode=L size=64x64>"
      ]
     },
     "execution_count": 9,
     "metadata": {},
     "output_type": "execute_result"
    }
   ],
   "source": [
    "convertValuesToImages(training_digits_images.loc[0], True)"
   ]
  },
  {
   "cell_type": "code",
   "execution_count": 10,
   "metadata": {
    "colab": {
     "base_uri": "https://localhost:8080/",
     "height": 81
    },
    "colab_type": "code",
    "id": "zdnSlqNxYB_H",
    "outputId": "db1dd27a-fefe-4ec2-bf3e-ffa57066541e"
   },
   "outputs": [
    {
     "data": {
      "image/png": "[encoded data removed]",
      "text/plain": [
       "<PIL.Image.Image image mode=L size=64x64>"
      ]
     },
     "execution_count": 10,
     "metadata": {},
     "output_type": "execute_result"
    }
   ],
   "source": [
    "convertValuesToImages(training_digits_images.loc[2], True)"
   ]
  },
  {
   "cell_type": "code",
   "execution_count": 11,
   "metadata": {
    "colab": {
     "base_uri": "https://localhost:8080/",
     "height": 81
    },
    "colab_type": "code",
    "id": "hlSt-2_2i8O1",
    "outputId": "464c57e0-2b7a-4c4d-f2df-aab1a0dbb5a5"
   },
   "outputs": [
    {
     "data": {
      "image/png": "[encoded data removed]",
      "text/plain": [
       "<PIL.Image.Image image mode=L size=64x64>"
      ]
     },
     "execution_count": 11,
     "metadata": {},
     "output_type": "execute_result"
    }
   ],
   "source": [
    "convertValuesToImages(training_digits_images.loc[7], True)"
   ]
  },
  {
   "cell_type": "code",
   "execution_count": 12,
   "metadata": {
    "colab": {
     "base_uri": "https://localhost:8080/",
     "height": 81
    },
    "colab_type": "code",
    "id": "xsucycIri9ht",
    "outputId": "714e35f7-37a0-408e-c0d6-1bba94836e82"
   },
   "outputs": [
    {
     "data": {
      "image/png": "[encoded data removed]",
      "text/plain": [
       "<PIL.Image.Image image mode=L size=64x64>"
      ]
     },
     "execution_count": 12,
     "metadata": {},
     "output_type": "execute_result"
    }
   ],
   "source": [
    "convertValuesToImages(training_digits_images.loc[9], True)"
   ]
  },
  {
   "cell_type": "markdown",
   "metadata": {
    "colab_type": "text",
    "id": "ZZT4fEuLoLXw"
   },
   "source": [
    "## Data Preprocessing"
   ]
  },
  {
   "cell_type": "markdown",
   "metadata": {
    "colab_type": "text",
    "id": "TZH8hpO_qgem"
   },
   "source": [
    "### Image Normalization\n",
    "We rescale the images by dividing every pixel in the image by 255 to make them into range [0, 1]"
   ]
  },
  {
   "cell_type": "code",
   "execution_count": 13,
   "metadata": {
    "colab": {},
    "colab_type": "code",
    "id": "1HJI0WG0oNmT"
   },
   "outputs": [],
   "source": [
    "training_digits_images_scaled = training_digits_images.values.astype('float32')/255\n",
    "training_digits_labels = training_digits_labels.values.astype('int32')\n",
    "testing_digits_images_scaled = testing_digits_images.values.astype('float32')/255\n",
    "testing_digits_labels = testing_digits_labels.values.astype('int32')\n",
    "\n",
    "training_letters_images_scaled = training_letters_images.values.astype('float32')/255\n",
    "training_letters_labels = training_letters_labels.values.astype('int32')\n",
    "testing_letters_images_scaled = testing_letters_images.values.astype('float32')/255\n",
    "testing_letters_labels = testing_letters_labels.values.astype('int32')"
   ]
  },
  {
   "cell_type": "code",
   "execution_count": 14,
   "metadata": {
    "colab": {
     "base_uri": "https://localhost:8080/",
     "height": 136
    },
    "colab_type": "code",
    "id": "4GtF5Gc4sGsv",
    "outputId": "5f730686-de88-47dc-a308-2618ddcdd152"
   },
   "outputs": [
    {
     "name": "stdout",
     "output_type": "stream",
     "text": [
      "Training images of digits after scaling\n",
      "(59999, 4096)\n"
     ]
    },
    {
     "data": {
      "text/plain": [
       "array([[0., 0., 0., ..., 0., 0., 0.],\n",
       "       [0., 0., 0., ..., 0., 0., 0.],\n",
       "       [0., 0., 0., ..., 0., 0., 0.],\n",
       "       [0., 0., 0., ..., 0., 0., 0.],\n",
       "       [0., 0., 0., ..., 0., 0., 0.]], dtype=float32)"
      ]
     },
     "execution_count": 14,
     "metadata": {},
     "output_type": "execute_result"
    }
   ],
   "source": [
    "print(\"Training images of digits after scaling\")\n",
    "print(training_digits_images_scaled.shape)\n",
    "training_digits_images_scaled[0:5]"
   ]
  },
  {
   "cell_type": "code",
   "execution_count": 15,
   "metadata": {
    "colab": {
     "base_uri": "https://localhost:8080/",
     "height": 136
    },
    "colab_type": "code",
    "id": "n68sxKC0sTkq",
    "outputId": "15a162f4-6ba7-4b01-d8b5-81c4e2eced74"
   },
   "outputs": [
    {
     "name": "stdout",
     "output_type": "stream",
     "text": [
      "Training images of letters after scaling\n",
      "(13439, 4096)\n"
     ]
    },
    {
     "data": {
      "text/plain": [
       "array([[0., 0., 0., ..., 0., 0., 0.],\n",
       "       [0., 0., 0., ..., 0., 0., 0.],\n",
       "       [0., 0., 0., ..., 0., 0., 0.],\n",
       "       [0., 0., 0., ..., 0., 0., 0.],\n",
       "       [0., 0., 0., ..., 0., 0., 0.]], dtype=float32)"
      ]
     },
     "execution_count": 15,
     "metadata": {},
     "output_type": "execute_result"
    }
   ],
   "source": [
    "print(\"Training images of letters after scaling\")\n",
    "print(training_letters_images_scaled.shape)\n",
    "training_letters_images_scaled[0:5]"
   ]
  },
  {
   "cell_type": "markdown",
   "metadata": {
    "colab_type": "text",
    "id": "T-X1SJjnsq8b"
   },
   "source": [
    "### Encoding Categorical Labels\n",
    "From the labels csv files we can see that labels are categorical values and it is a multi-class classification problem. \n",
    "\n",
    "Our outputs are in the form of:\n",
    "* Digits from 0 to 9 have categories numbers from 0 to 9\n",
    "* Letters from ’alef’ to ’yeh’ have categories numbers from 10 to 37\n",
    "\n",
    "**Here we will encode these categories values using One Hot Encoding with keras.**\n",
    "\n",
    "One-hot encoding transforms integer to a binary matrix where the array contains only one ‘1’ and the rest elements are ‘0’.\n",
    "\n"
   ]
  },
  {
   "cell_type": "code",
   "execution_count": 16,
   "metadata": {
    "colab": {
     "base_uri": "https://localhost:8080/",
     "height": 34
    },
    "colab_type": "code",
    "id": "uQyT17YzsU7U",
    "outputId": "bcc5de2e-c436-44f6-b987-f5d8d376a447"
   },
   "outputs": [],
   "source": [
    "\n",
    "from keras.utils import to_categorical\n",
    "\n",
    "# one hot encoding\n",
    "# number of classes = 10 (digits classes) + 28 (arabic alphabet classes)\n",
    "number_of_classes = 38\n",
    "training_letters_labels_encoded = to_categorical(training_letters_labels, num_classes=number_of_classes)\n",
    "testing_letters_labels_encoded = to_categorical(testing_letters_labels, num_classes=number_of_classes)\n",
    "training_digits_labels_encoded = to_categorical(training_digits_labels, num_classes=number_of_classes)\n",
    "testing_digits_labels_encoded = to_categorical(testing_digits_labels, num_classes=number_of_classes)"
   ]
  },
  {
   "cell_type": "code",
   "execution_count": 17,
   "metadata": {
    "colab": {
     "base_uri": "https://localhost:8080/",
     "height": 136
    },
    "colab_type": "code",
    "id": "9CyoYTDl1BXD",
    "outputId": "417bbbb9-04d4-4a7d-f61f-78c732d241b5",
    "scrolled": true
   },
   "outputs": [
    {
     "name": "stdout",
     "output_type": "stream",
     "text": [
      "[[0. 1. 0. ... 0. 0. 0.]\n",
      " [0. 0. 1. ... 0. 0. 0.]\n",
      " [0. 0. 0. ... 0. 0. 0.]\n",
      " ...\n",
      " [0. 0. 0. ... 0. 0. 0.]\n",
      " [0. 0. 0. ... 0. 0. 0.]\n",
      " [0. 0. 0. ... 0. 0. 0.]]\n"
     ]
    }
   ],
   "source": [
    "print(training_digits_labels_encoded)"
   ]
  },
  {
   "cell_type": "code",
   "execution_count": 18,
   "metadata": {},
   "outputs": [
    {
     "name": "stdout",
     "output_type": "stream",
     "text": [
      "[[0. 0. 0. ... 0. 0. 0.]\n",
      " [0. 0. 0. ... 0. 0. 0.]\n",
      " [0. 0. 0. ... 0. 0. 0.]\n",
      " ...\n",
      " [0. 0. 0. ... 0. 0. 1.]\n",
      " [0. 0. 0. ... 0. 0. 1.]\n",
      " [0. 0. 0. ... 0. 0. 1.]]\n"
     ]
    }
   ],
   "source": [
    "print(training_letters_labels_encoded)"
   ]
  },
  {
   "cell_type": "markdown",
   "metadata": {
    "colab_type": "text",
    "id": "nsJzI6Gp5bbA"
   },
   "source": [
    "### Reshaping Input Images to 64x64x1\n"
   ]
  },
  {
   "cell_type": "markdown",
   "metadata": {
    "colab_type": "text",
    "id": "VDldXMz76EQH"
   },
   "source": [
    "When using TensorFlow as backend, Keras CNNs require a 4D array (which we'll also refer to as a 4D tensor) as input, with shape\n",
    "(nb_samples,rows,columns,channels)\n",
    "\n",
    "where nb_samples corresponds to the total number of images (or samples), and rows, columns, and channels correspond to the number of rows, columns, and channels for each image, respectively.\n",
    "\n",
    "**So we will reshape the input images to a 4D tensor with shape\n",
    "(nb_samples, 64, 64 ,1)** as we use grayscale images of 64x64 pixels."
   ]
  },
  {
   "cell_type": "code",
   "execution_count": 19,
   "metadata": {
    "colab": {
     "base_uri": "https://localhost:8080/",
     "height": 51
    },
    "colab_type": "code",
    "id": "EWTQ0nq85wWL",
    "outputId": "fae3559a-8abf-4888-dddf-1bafa65b7afc"
   },
   "outputs": [
    {
     "name": "stdout",
     "output_type": "stream",
     "text": [
      "(59999, 64, 64, 1) (59999, 38) (9999, 64, 64, 1) (9999, 38)\n",
      "(13439, 64, 64, 1) (13439, 38) (3359, 64, 64, 1) (3359, 38)\n"
     ]
    }
   ],
   "source": [
    "# reshape input digit images to 64x64x1\n",
    "training_digits_images_scaled = training_digits_images_scaled.reshape([-1, 64, 64, 1])\n",
    "testing_digits_images_scaled = testing_digits_images_scaled.reshape([-1, 64, 64, 1])\n",
    "\n",
    "# reshape input letter images to 64x64x1\n",
    "training_letters_images_scaled = training_letters_images_scaled.reshape([-1, 64, 64, 1])\n",
    "testing_letters_images_scaled = testing_letters_images_scaled.reshape([-1, 64, 64, 1])\n",
    "\n",
    "print(training_digits_images_scaled.shape, training_digits_labels_encoded.shape, testing_digits_images_scaled.shape, testing_digits_labels_encoded.shape)\n",
    "print(training_letters_images_scaled.shape, training_letters_labels_encoded.shape, testing_letters_images_scaled.shape, testing_letters_labels_encoded.shape)"
   ]
  },
  {
   "cell_type": "markdown",
   "metadata": {
    "colab_type": "text",
    "id": "Gtsr1vVaYS9D"
   },
   "source": [
    "### Merging Letters and Digits Datasets"
   ]
  },
  {
   "cell_type": "code",
   "execution_count": 20,
   "metadata": {
    "colab": {
     "base_uri": "https://localhost:8080/",
     "height": 85
    },
    "colab_type": "code",
    "id": "1bdfCcFpYpA_",
    "outputId": "8d6b7393-2618-42d0-bee4-98b2e02a787e"
   },
   "outputs": [
    {
     "name": "stdout",
     "output_type": "stream",
     "text": [
      "Total Training images are 73438 images of shape\n",
      "(73438, 64, 64, 1) (73438, 38)\n",
      "Total Testing images are 13358 images of shape\n",
      "(13358, 64, 64, 1) (13358, 38)\n"
     ]
    }
   ],
   "source": [
    "training_data_images = np.concatenate((training_digits_images_scaled, training_letters_images_scaled), axis=0) \n",
    "training_data_labels = np.concatenate((training_digits_labels_encoded, training_letters_labels_encoded), axis=0)\n",
    "print(\"Total Training images are {} images of shape\".format(training_data_images.shape[0]))\n",
    "print(training_data_images.shape, training_data_labels.shape)\n",
    "\n",
    "\n",
    "testing_data_images = np.concatenate((testing_digits_images_scaled, testing_letters_images_scaled), axis=0) \n",
    "testing_data_labels = np.concatenate((testing_digits_labels_encoded, testing_letters_labels_encoded), axis=0)\n",
    "print(\"Total Testing images are {} images of shape\".format(testing_data_images.shape[0]))\n",
    "print(testing_data_images.shape, testing_data_labels.shape)\n"
   ]
  },
  {
   "cell_type": "markdown",
   "metadata": {
    "colab_type": "text",
    "id": "bsZR7mb89UoI"
   },
   "source": [
    "## Designing Model Architecture"
   ]
  },
  {
   "cell_type": "markdown",
   "metadata": {
    "colab_type": "text",
    "id": "7DImv-hIKSOf"
   },
   "source": [
    "Now we will make a method which creates the model architecture with the specified optimizer and activation functions."
   ]
  },
  {
   "cell_type": "code",
   "execution_count": 21,
   "metadata": {
    "colab": {},
    "colab_type": "code",
    "id": "iHOTAM-w79Ak"
   },
   "outputs": [],
   "source": [
    "from keras.models import Sequential\n",
    "from keras.layers import Conv2D, MaxPooling2D, GlobalAveragePooling2D, BatchNormalization, Dropout, Dense\n",
    "\n",
    "def create_model(optimizer='adam', kernel_initializer='he_normal', activation='relu'):\n",
    "  # create model\n",
    "  model = Sequential()\n",
    "  model.add(Conv2D(filters=16, kernel_size=3, padding='same', input_shape=(64, 64, 1), kernel_initializer=kernel_initializer, activation=activation))\n",
    "  model.add(BatchNormalization())\n",
    "  model.add(MaxPooling2D(pool_size=2))\n",
    "  model.add(Dropout(0.2))\n",
    "\n",
    "  model.add(Conv2D(filters=32, kernel_size=3, padding='same', kernel_initializer=kernel_initializer, activation=activation))\n",
    "  model.add(BatchNormalization())\n",
    "  model.add(MaxPooling2D(pool_size=2))\n",
    "  model.add(Dropout(0.2))\n",
    "\n",
    "  model.add(Conv2D(filters=64, kernel_size=3, padding='same', kernel_initializer=kernel_initializer, activation=activation))\n",
    "  model.add(BatchNormalization())\n",
    "  model.add(MaxPooling2D(pool_size=2))\n",
    "  model.add(Dropout(0.2))\n",
    "\n",
    "  model.add(Conv2D(filters=128, kernel_size=3, padding='same', kernel_initializer=kernel_initializer, activation=activation))\n",
    "  model.add(BatchNormalization())\n",
    "  model.add(MaxPooling2D(pool_size=2))\n",
    "  model.add(Dropout(0.2))\n",
    "  model.add(GlobalAveragePooling2D())\n",
    "  \n",
    "  #Fully connected final layer\n",
    "  model.add(Dense(38, activation='softmax'))\n",
    "\n",
    "  # Compile model\n",
    "  model.compile(loss='categorical_crossentropy', metrics=['accuracy'], optimizer=optimizer)\n",
    "  return model"
   ]
  },
  {
   "cell_type": "markdown",
   "metadata": {
    "colab_type": "text",
    "id": "Wuqb1snmHPqW"
   },
   "source": [
    "Let’s understand above code step by step.\n",
    "\n",
    "* The first hidden layer is a convolutional layer. The layer has 16 feature maps, which with the size of 3×3 and an activation function which is relu. This is the input layer, expecting images with the structure outlined above.\n",
    "* The second layer is Batch Normalization which solves having distributions of the features vary across the training and test data, which breaks the IID assumption. We use it to help in two ways faster learning and higher overall accuracy. \n",
    "* The third layer is the MaxPooling layer. MaxPooling layer is used to down-sample the input to enable the model to make assumptions about the features so as to reduce overfitting. It also reduces the number of parameters to learn, reducing the training time.\n",
    "* The next layer is a Regularization layer using dropout. It is configured to randomly exclude 20% of neurons in the layer in order to reduce overfitting.\n",
    "* Another hidden layer with 32 feature maps with the size of 3×3 and a relu activation function to capture more features from the image.\n",
    "* Other hidden layers with 64 and 128 feature maps with the size of 3×3 and a relu activation function to capture complex patterns from the image which will decribe the digits and letters later.\n",
    "* More MaxPooling, Batch Normalization, Regularization and GlobalAveragePooling2D layers.\n",
    "* The last layer is the output layer with 10 neurons (number of output classes) and it uses softmax activation function as we have multi-classes. Each neuron will give the probability of that class.\n",
    "\n",
    "I used categorical_crossentropy as a loss function because its a multi-class classification problem. I used accuracy as metrics to improve the performance of our neural network."
   ]
  },
  {
   "cell_type": "markdown",
   "metadata": {
    "colab_type": "text",
    "id": "_GdoRPe6LiRV"
   },
   "source": [
    "## Model Summary And Visualization"
   ]
  },
  {
   "cell_type": "markdown",
   "metadata": {
    "colab_type": "text",
    "id": "RLAADtoKMkcB"
   },
   "source": [
    "Let's see the model summary."
   ]
  },
  {
   "cell_type": "code",
   "execution_count": 22,
   "metadata": {
    "colab": {
     "base_uri": "https://localhost:8080/",
     "height": 765
    },
    "colab_type": "code",
    "id": "GzgiwjyPLmrp",
    "outputId": "5fa3a42f-9e06-4798-bbd2-38d5011e9547",
    "scrolled": true
   },
   "outputs": [
    {
     "name": "stdout",
     "output_type": "stream",
     "text": [
      "Model: \"sequential\"\n",
      "_________________________________________________________________\n",
      " Layer (type)                Output Shape              Param #   \n",
      "=================================================================\n",
      " conv2d (Conv2D)             (None, 64, 64, 16)        160       \n",
      "                                                                 \n",
      " batch_normalization (BatchN  (None, 64, 64, 16)       64        \n",
      " ormalization)                                                   \n",
      "                                                                 \n",
      " max_pooling2d (MaxPooling2D  (None, 32, 32, 16)       0         \n",
      " )                                                               \n",
      "                                                                 \n",
      " dropout (Dropout)           (None, 32, 32, 16)        0         \n",
      "                                                                 \n",
      " conv2d_1 (Conv2D)           (None, 32, 32, 32)        4640      \n",
      "                                                                 \n",
      " batch_normalization_1 (Batc  (None, 32, 32, 32)       128       \n",
      " hNormalization)                                                 \n",
      "                                                                 \n",
      " max_pooling2d_1 (MaxPooling  (None, 16, 16, 32)       0         \n",
      " 2D)                                                             \n",
      "                                                                 \n",
      " dropout_1 (Dropout)         (None, 16, 16, 32)        0         \n",
      "                                                                 \n",
      " conv2d_2 (Conv2D)           (None, 16, 16, 64)        18496     \n",
      "                                                                 \n",
      " batch_normalization_2 (Batc  (None, 16, 16, 64)       256       \n",
      " hNormalization)                                                 \n",
      "                                                                 \n",
      " max_pooling2d_2 (MaxPooling  (None, 8, 8, 64)         0         \n",
      " 2D)                                                             \n",
      "                                                                 \n",
      " dropout_2 (Dropout)         (None, 8, 8, 64)          0         \n",
      "                                                                 \n",
      " conv2d_3 (Conv2D)           (None, 8, 8, 128)         73856     \n",
      "                                                                 \n",
      " batch_normalization_3 (Batc  (None, 8, 8, 128)        512       \n",
      " hNormalization)                                                 \n",
      "                                                                 \n",
      " max_pooling2d_3 (MaxPooling  (None, 4, 4, 128)        0         \n",
      " 2D)                                                             \n",
      "                                                                 \n",
      " dropout_3 (Dropout)         (None, 4, 4, 128)         0         \n",
      "                                                                 \n",
      " global_average_pooling2d (G  (None, 128)              0         \n",
      " lobalAveragePooling2D)                                          \n",
      "                                                                 \n",
      " dense (Dense)               (None, 38)                4902      \n",
      "                                                                 \n",
      "=================================================================\n",
      "Total params: 103,014\n",
      "Trainable params: 102,534\n",
      "Non-trainable params: 480\n",
      "_________________________________________________________________\n"
     ]
    }
   ],
   "source": [
    "model = create_model()\n",
    "model.summary()"
   ]
  },
  {
   "cell_type": "markdown",
   "metadata": {
    "colab_type": "text",
    "id": "F-WXi7zkLxuN"
   },
   "source": [
    "Keras support plotting the model in keras.utils.vis_utils module which provides utility functions to plot a Keras model using graphviz.\n",
    "\n",
    "To be able to use that utility we should first install pydot and graphviz modules. This can be done by running the following code cell then restart the runtime environment."
   ]
  },
  {
   "cell_type": "markdown",
   "metadata": {
    "colab_type": "text",
    "id": "eyEMpJx3MttP"
   },
   "source": [
    "Now we can plot the model and save it to a file also."
   ]
  },
  {
   "cell_type": "code",
   "execution_count": 23,
   "metadata": {
    "colab": {
     "base_uri": "https://localhost:8080/",
     "height": 1000
    },
    "colab_type": "code",
    "id": "B1zpgDtwMtEU",
    "outputId": "2f49025d-be39-4595-9206-a31a8740ea19"
   },
   "outputs": [
    {
     "data": {
      "image/png": "[encoded data removed]",
      "text/plain": [
       "<IPython.core.display.Image object>"
      ]
     },
     "metadata": {},
     "output_type": "display_data"
    }
   ],
   "source": [
    "from keras.utils import plot_model\n",
    "\n",
    "plot_model(model, to_file=\"model.png\", show_shapes=True)\n",
    "from IPython.display import Image as IPythonImage\n",
    "display(IPythonImage('model.png'))"
   ]
  },
  {
   "cell_type": "markdown",
   "metadata": {
    "colab_type": "text",
    "id": "XKburGrWjUug"
   },
   "source": [
    "## Parameters Tuning"
   ]
  },
  {
   "cell_type": "markdown",
   "metadata": {
    "colab_type": "text",
    "id": "Oz6ZOYT5jde-"
   },
   "source": [
    "We will tune the parameters optimizer, kernel_initializer and activation."
   ]
  },
  {
   "cell_type": "code",
   "execution_count": 24,
   "metadata": {
    "colab": {
     "base_uri": "https://localhost:8080/",
     "height": 34
    },
    "colab_type": "code",
    "id": "iqd8pUpo1vC3",
    "outputId": "e8b9bd6f-c30f-4325-e368-877abff2e31f"
   },
   "outputs": [
    {
     "name": "stdout",
     "output_type": "stream",
     "text": [
      "Number of different parameter combinations = 24\n"
     ]
    }
   ],
   "source": [
    "# fix random seed for reproducibility\n",
    "seed = 7\n",
    "np.random.seed(seed)\n",
    "\n",
    "# define the grid search parameters\n",
    "optimizer = ['RMSprop', 'Adam', 'Adagrad', 'Nadam']\n",
    "kernel_initializer = ['normal', 'uniform']\n",
    "activation = ['relu', 'linear', 'tanh']\n",
    "\n",
    "param_grid = dict(optimizer=optimizer, kernel_initializer=kernel_initializer, activation=activation)\n",
    "\n",
    "# count number of different parameters values combinations\n",
    "parameters_number = 1\n",
    "for x in param_grid:\n",
    "  parameters_number = parameters_number * len(param_grid[x]) \n",
    "print(\"Number of different parameter combinations = {}\".format(parameters_number))"
   ]
  },
  {
   "cell_type": "markdown",
   "metadata": {
    "colab_type": "text",
    "id": "rn5e1UWniPmD"
   },
   "source": [
    "We will try different models with different parameters to find the best parameter values."
   ]
  },
  {
   "cell_type": "code",
   "execution_count": null,
   "metadata": {
    "colab": {
     "base_uri": "https://localhost:8080/",
     "height": 5341
    },
    "colab_type": "code",
    "collapsed": true,
    "id": "kbtGq865gbEW",
    "outputId": "628f25ba-bd1f-4101-f64b-00f07395a0e4"
   },
   "outputs": [],
   "source": [
    "epochs = 5\n",
    "batch_size = 20 # 20 divides the training data samples\n",
    "\n",
    "#creating the models with different hyperparameters\n",
    "for a,b,c in [(x,y,z) for x in optimizer for z in activation for y in kernel_initializer]:\n",
    "    params = {'optimizer' : a , 'kernel_initializer' : b , 'activation' : c}\n",
    "    print(params)\n",
    "    curr_model = create_model(a, b, c)\n",
    "    curr_model.fit(training_data_images, training_data_labels, \n",
    "                    validation_data=(testing_data_images, testing_data_labels),\n",
    "                    epochs=epochs, batch_size=batch_size, verbose=1)\n",
    "    print(\"=============================================================================\")"
   ]
  },
  {
   "cell_type": "markdown",
   "metadata": {},
   "source": [
    "**Considering the results above, it was found the the best parameters are:**\n",
    "* **Optimizer: Adam**\n",
    "* **Kernel_initializer: uniform**\n",
    "* **Activation: relu** "
   ]
  },
  {
   "cell_type": "code",
   "execution_count": 25,
   "metadata": {},
   "outputs": [],
   "source": [
    "#creating the model with the best parameters\n",
    "model = create_model(optimizer='Adam', kernel_initializer='uniform', activation='relu')"
   ]
  },
  {
   "cell_type": "markdown",
   "metadata": {},
   "source": [
    "## Training the Mode"
   ]
  },
  {
   "cell_type": "markdown",
   "metadata": {},
   "source": [
    "### Fitting the Model\n"
   ]
  },
  {
   "cell_type": "code",
   "execution_count": 26,
   "metadata": {},
   "outputs": [
    {
     "name": "stdout",
     "output_type": "stream",
     "text": [
      "Epoch 1/10\n",
      "3671/3672 [============================>.] - ETA: 0s - loss: 0.3223 - accuracy: 0.9147\n",
      "Epoch 1: val_loss improved from inf to 0.76771, saving model to weights.hdf5\n",
      "3672/3672 [==============================] - 136s 37ms/step - loss: 0.3223 - accuracy: 0.9147 - val_loss: 0.7677 - val_accuracy: 0.7549\n",
      "Epoch 2/10\n",
      "3671/3672 [============================>.] - ETA: 0s - loss: 0.1045 - accuracy: 0.9682\n",
      "Epoch 2: val_loss improved from 0.76771 to 0.10629, saving model to weights.hdf5\n",
      "3672/3672 [==============================] - 136s 37ms/step - loss: 0.1045 - accuracy: 0.9682 - val_loss: 0.1063 - val_accuracy: 0.9694\n",
      "Epoch 3/10\n",
      "3671/3672 [============================>.] - ETA: 0s - loss: 0.0806 - accuracy: 0.9749\n",
      "Epoch 3: val_loss did not improve from 0.10629\n",
      "3672/3672 [==============================] - 131s 36ms/step - loss: 0.0806 - accuracy: 0.9749 - val_loss: 0.1287 - val_accuracy: 0.9631\n",
      "Epoch 4/10\n",
      "3672/3672 [==============================] - ETA: 0s - loss: 0.0675 - accuracy: 0.9788\n",
      "Epoch 4: val_loss did not improve from 0.10629\n",
      "3672/3672 [==============================] - 123s 34ms/step - loss: 0.0675 - accuracy: 0.9788 - val_loss: 0.2250 - val_accuracy: 0.9373\n",
      "Epoch 5/10\n",
      "3672/3672 [==============================] - ETA: 0s - loss: 0.0618 - accuracy: 0.9807\n",
      "Epoch 5: val_loss improved from 0.10629 to 0.05517, saving model to weights.hdf5\n",
      "3672/3672 [==============================] - 148s 40ms/step - loss: 0.0618 - accuracy: 0.9807 - val_loss: 0.0552 - val_accuracy: 0.9838\n",
      "Epoch 6/10\n",
      "3671/3672 [============================>.] - ETA: 0s - loss: 0.0548 - accuracy: 0.9831\n",
      "Epoch 6: val_loss did not improve from 0.05517\n",
      "3672/3672 [==============================] - 136s 37ms/step - loss: 0.0548 - accuracy: 0.9831 - val_loss: 0.2927 - val_accuracy: 0.8956\n",
      "Epoch 7/10\n",
      "3671/3672 [============================>.] - ETA: 0s - loss: 0.0495 - accuracy: 0.9841\n",
      "Epoch 7: val_loss did not improve from 0.05517\n",
      "3672/3672 [==============================] - 138s 38ms/step - loss: 0.0495 - accuracy: 0.9841 - val_loss: 0.3431 - val_accuracy: 0.8995\n",
      "Epoch 8/10\n",
      "3672/3672 [==============================] - ETA: 0s - loss: 0.0481 - accuracy: 0.9847\n",
      "Epoch 8: val_loss did not improve from 0.05517\n",
      "3672/3672 [==============================] - 132s 36ms/step - loss: 0.0481 - accuracy: 0.9847 - val_loss: 0.0664 - val_accuracy: 0.9817\n",
      "Epoch 9/10\n",
      "3672/3672 [==============================] - ETA: 0s - loss: 0.0443 - accuracy: 0.9858\n",
      "Epoch 9: val_loss did not improve from 0.05517\n",
      "3672/3672 [==============================] - 141s 38ms/step - loss: 0.0443 - accuracy: 0.9858 - val_loss: 0.0676 - val_accuracy: 0.9802\n",
      "Epoch 10/10\n",
      "3672/3672 [==============================] - ETA: 0s - loss: 0.0428 - accuracy: 0.9866\n",
      "Epoch 10: val_loss did not improve from 0.05517\n",
      "3672/3672 [==============================] - 130s 35ms/step - loss: 0.0428 - accuracy: 0.9866 - val_loss: 0.0618 - val_accuracy: 0.9814\n"
     ]
    }
   ],
   "source": [
    "from keras.callbacks import ModelCheckpoint  \n",
    "\n",
    "#The ModelCheckpoint callback is being used to save the weights of the trained model to a file\n",
    "#This allows the model to be reused later without having to train it again. \n",
    "#The `verbose` parameter set to 1 means that progress updates will be printed during training\n",
    "checkpointer = ModelCheckpoint(filepath='weights.hdf5', verbose=1, save_best_only=True)\n",
    "history = model.fit(training_data_images, training_data_labels, \n",
    "                    validation_data=(testing_data_images, testing_data_labels),\n",
    "                    epochs=10, batch_size=20, verbose=1, callbacks=[checkpointer])"
   ]
  },
  {
   "cell_type": "markdown",
   "metadata": {},
   "source": [
    "### Plotting Loss and Accuracy Curves with Epochs"
   ]
  },
  {
   "cell_type": "code",
   "execution_count": null,
   "metadata": {},
   "outputs": [],
   "source": [
    "# import matplotlib.pyplot as plt\n",
    "\n",
    "# def plot_loss_accuracy(history):\n",
    "#   # Loss Curves\n",
    "#   plt.figure(figsize=[8,6])\n",
    "#   plt.plot(history.history['loss'],'r',linewidth=3.0)\n",
    "#   plt.plot(history.history['val_loss'],'b',linewidth=3.0)\n",
    "#   plt.legend(['Training loss', 'Validation Loss'],fontsize=18)\n",
    "#   plt.xlabel('Epochs ',fontsize=16)\n",
    "#   plt.ylabel('Loss',fontsize=16)\n",
    "#   plt.title('Loss Curves',fontsize=16)\n",
    "\n",
    "#   # Accuracy Curves\n",
    "#   plt.figure(figsize=[8,6])\n",
    "#   plt.plot(history.history['acc'],'r',linewidth=3.0)\n",
    "#   plt.plot(history.history['val_acc'],'b',linewidth=3.0)\n",
    "#   plt.legend(['Training Accuracy', 'Validation Accuracy'],fontsize=18)\n",
    "#   plt.xlabel('Epochs ',fontsize=16)\n",
    "#   plt.ylabel('Accuracy',fontsize=16)\n",
    "#   plt.title('Accuracy Curves',fontsize=16) "
   ]
  },
  {
   "cell_type": "code",
   "execution_count": null,
   "metadata": {},
   "outputs": [],
   "source": [
    "# plot_loss_accuracy(history)"
   ]
  },
  {
   "cell_type": "markdown",
   "metadata": {},
   "source": [
    "### Load the Model with the Best Validation Loss\n"
   ]
  },
  {
   "cell_type": "code",
   "execution_count": 27,
   "metadata": {},
   "outputs": [],
   "source": [
    "model.load_weights('weights.hdf5')"
   ]
  },
  {
   "cell_type": "markdown",
   "metadata": {},
   "source": [
    "## Testing the Model"
   ]
  },
  {
   "cell_type": "code",
   "execution_count": 28,
   "metadata": {},
   "outputs": [
    {
     "name": "stdout",
     "output_type": "stream",
     "text": [
      "418/418 [==============================] - 5s 13ms/step - loss: 0.0552 - accuracy: 0.9838\n",
      "Test Accuracy: 0.983829915523529\n",
      "Test Loss: 0.05517462641000748\n"
     ]
    }
   ],
   "source": [
    "# Final evaluation of the model\n",
    "metrics = model.evaluate(testing_data_images, testing_data_labels, verbose=1)\n",
    "print(\"Test Accuracy: {}\".format(metrics[1]))\n",
    "print(\"Test Loss: {}\".format(metrics[0]))"
   ]
  },
  {
   "cell_type": "markdown",
   "metadata": {},
   "source": [
    "## Training our best model with Increasing the number of epochs to see if we get a better accuracy"
   ]
  },
  {
   "cell_type": "code",
   "execution_count": 29,
   "metadata": {},
   "outputs": [
    {
     "name": "stdout",
     "output_type": "stream",
     "text": [
      "Epoch 1/15\n",
      "3672/3672 [==============================] - ETA: 0s - loss: 0.0567 - accuracy: 0.9821\n",
      "Epoch 1: val_loss improved from inf to 0.07045, saving model to weights.hdf5\n",
      "3672/3672 [==============================] - 157s 43ms/step - loss: 0.0567 - accuracy: 0.9821 - val_loss: 0.0704 - val_accuracy: 0.9777\n",
      "Epoch 2/15\n",
      "3672/3672 [==============================] - ETA: 0s - loss: 0.0506 - accuracy: 0.9843\n",
      "Epoch 2: val_loss did not improve from 0.07045\n",
      "3672/3672 [==============================] - 161s 44ms/step - loss: 0.0506 - accuracy: 0.9843 - val_loss: 0.1126 - val_accuracy: 0.9641\n",
      "Epoch 3/15\n",
      "3671/3672 [============================>.] - ETA: 0s - loss: 0.0477 - accuracy: 0.9852\n",
      "Epoch 3: val_loss improved from 0.07045 to 0.06377, saving model to weights.hdf5\n",
      "3672/3672 [==============================] - 159s 43ms/step - loss: 0.0477 - accuracy: 0.9852 - val_loss: 0.0638 - val_accuracy: 0.9820\n",
      "Epoch 4/15\n",
      "3671/3672 [============================>.] - ETA: 0s - loss: 0.0441 - accuracy: 0.9861\n",
      "Epoch 4: val_loss improved from 0.06377 to 0.05699, saving model to weights.hdf5\n",
      "3672/3672 [==============================] - 167s 45ms/step - loss: 0.0441 - accuracy: 0.9861 - val_loss: 0.0570 - val_accuracy: 0.9826\n",
      "Epoch 5/15\n",
      "3671/3672 [============================>.] - ETA: 0s - loss: 0.0426 - accuracy: 0.9863\n",
      "Epoch 5: val_loss did not improve from 0.05699\n",
      "3672/3672 [==============================] - 183s 50ms/step - loss: 0.0426 - accuracy: 0.9863 - val_loss: 0.2032 - val_accuracy: 0.9406\n",
      "Epoch 6/15\n",
      "3672/3672 [==============================] - ETA: 0s - loss: 0.0404 - accuracy: 0.9873\n",
      "Epoch 6: val_loss did not improve from 0.05699\n",
      "3672/3672 [==============================] - 282s 77ms/step - loss: 0.0404 - accuracy: 0.9873 - val_loss: 0.1026 - val_accuracy: 0.9712\n",
      "Epoch 7/15\n",
      "3672/3672 [==============================] - ETA: 0s - loss: 0.0389 - accuracy: 0.9875\n",
      "Epoch 7: val_loss did not improve from 0.05699\n",
      "3672/3672 [==============================] - 204s 56ms/step - loss: 0.0389 - accuracy: 0.9875 - val_loss: 0.1550 - val_accuracy: 0.9570\n",
      "Epoch 8/15\n",
      "3671/3672 [============================>.] - ETA: 0s - loss: 0.0367 - accuracy: 0.9882\n",
      "Epoch 8: val_loss did not improve from 0.05699\n",
      "3672/3672 [==============================] - 133s 36ms/step - loss: 0.0367 - accuracy: 0.9882 - val_loss: 0.0938 - val_accuracy: 0.9716\n",
      "Epoch 9/15\n",
      "3671/3672 [============================>.] - ETA: 0s - loss: 0.0343 - accuracy: 0.9887\n",
      "Epoch 9: val_loss did not improve from 0.05699\n",
      "3672/3672 [==============================] - 127s 35ms/step - loss: 0.0343 - accuracy: 0.9887 - val_loss: 0.0730 - val_accuracy: 0.9819\n",
      "Epoch 10/15\n",
      "3671/3672 [============================>.] - ETA: 0s - loss: 0.0352 - accuracy: 0.9887\n",
      "Epoch 10: val_loss improved from 0.05699 to 0.04964, saving model to weights.hdf5\n",
      "3672/3672 [==============================] - 132s 36ms/step - loss: 0.0352 - accuracy: 0.9887 - val_loss: 0.0496 - val_accuracy: 0.9864\n",
      "Epoch 11/15\n",
      "3672/3672 [==============================] - ETA: 0s - loss: 0.0334 - accuracy: 0.9892\n",
      "Epoch 11: val_loss improved from 0.04964 to 0.04847, saving model to weights.hdf5\n",
      "3672/3672 [==============================] - 131s 36ms/step - loss: 0.0334 - accuracy: 0.9892 - val_loss: 0.0485 - val_accuracy: 0.9869\n",
      "Epoch 12/15\n",
      "3672/3672 [==============================] - ETA: 0s - loss: 0.0323 - accuracy: 0.9896\n",
      "Epoch 12: val_loss did not improve from 0.04847\n",
      "3672/3672 [==============================] - 134s 37ms/step - loss: 0.0323 - accuracy: 0.9896 - val_loss: 0.1495 - val_accuracy: 0.9523\n",
      "Epoch 13/15\n",
      "3672/3672 [==============================] - ETA: 0s - loss: 0.0328 - accuracy: 0.9898\n",
      "Epoch 13: val_loss did not improve from 0.04847\n",
      "3672/3672 [==============================] - 127s 35ms/step - loss: 0.0328 - accuracy: 0.9898 - val_loss: 0.0740 - val_accuracy: 0.9797\n",
      "Epoch 14/15\n",
      "3671/3672 [============================>.] - ETA: 0s - loss: 0.0293 - accuracy: 0.9901\n",
      "Epoch 14: val_loss did not improve from 0.04847\n",
      "3672/3672 [==============================] - 128s 35ms/step - loss: 0.0293 - accuracy: 0.9901 - val_loss: 0.0804 - val_accuracy: 0.9769\n",
      "Epoch 15/15\n",
      "3671/3672 [============================>.] - ETA: 0s - loss: 0.0309 - accuracy: 0.9901\n",
      "Epoch 15: val_loss improved from 0.04847 to 0.04496, saving model to weights.hdf5\n",
      "3672/3672 [==============================] - 133s 36ms/step - loss: 0.0309 - accuracy: 0.9901 - val_loss: 0.0450 - val_accuracy: 0.9882\n"
     ]
    },
    {
     "ename": "NameError",
     "evalue": "name 'plot_loss_accuracy' is not defined",
     "output_type": "error",
     "traceback": [
      "\u001b[1;31m---------------------------------------------------------------------------\u001b[0m",
      "\u001b[1;31mNameError\u001b[0m                                 Traceback (most recent call last)",
      "Cell \u001b[1;32mIn[29], line 11\u001b[0m\n\u001b[0;32m      6\u001b[0m history \u001b[38;5;241m=\u001b[39m model\u001b[38;5;241m.\u001b[39mfit(training_data_images, training_data_labels, \n\u001b[0;32m      7\u001b[0m                     validation_data\u001b[38;5;241m=\u001b[39m(testing_data_images, testing_data_labels),\n\u001b[0;32m      8\u001b[0m                     epochs\u001b[38;5;241m=\u001b[39mepochs, batch_size\u001b[38;5;241m=\u001b[39mbatch_size, verbose\u001b[38;5;241m=\u001b[39m\u001b[38;5;241m1\u001b[39m, callbacks\u001b[38;5;241m=\u001b[39m[checkpointer])\n\u001b[0;32m     10\u001b[0m model\u001b[38;5;241m.\u001b[39mload_weights(\u001b[38;5;124m'\u001b[39m\u001b[38;5;124mweights.hdf5\u001b[39m\u001b[38;5;124m'\u001b[39m)\n\u001b[1;32m---> 11\u001b[0m \u001b[43mplot_loss_accuracy\u001b[49m(history)\n",
      "\u001b[1;31mNameError\u001b[0m: name 'plot_loss_accuracy' is not defined"
     ]
    }
   ],
   "source": [
    "epochs = 15\n",
    "batch_size = 20\n",
    "\n",
    "checkpointer = ModelCheckpoint(filepath='weights.hdf5', verbose=1, save_best_only=True)\n",
    "\n",
    "history = model.fit(training_data_images, training_data_labels, \n",
    "                    validation_data=(testing_data_images, testing_data_labels),\n",
    "                    epochs=epochs, batch_size=batch_size, verbose=1, callbacks=[checkpointer])\n",
    "          \n",
    "model.load_weights('weights.hdf5')\n",
    "# plot_loss_accuracy(history)"
   ]
  },
  {
   "cell_type": "markdown",
   "metadata": {},
   "source": [
    "## Testing our model after training on 15 epochs"
   ]
  },
  {
   "cell_type": "code",
   "execution_count": 61,
   "metadata": {},
   "outputs": [
    {
     "name": "stdout",
     "output_type": "stream",
     "text": [
      "418/418 [==============================] - 5s 12ms/step - loss: 0.0450 - accuracy: 0.9882\n",
      "Test Accuracy: 0.988246738910675\n",
      "Test Loss: 0.04496202990412712\n"
     ]
    }
   ],
   "source": [
    "# Final evaluation of the model\n",
    "metrics = model.evaluate(testing_data_images, testing_data_labels, verbose=1)\n",
    "print(\"Test Accuracy: {}\".format(metrics[1]))\n",
    "print(\"Test Loss: {}\".format(metrics[0]))"
   ]
  },
  {
   "cell_type": "markdown",
   "metadata": {},
   "source": [
    "After training the model on more 15 epochs we got a better accuracy . Also the test accuracy imorpved from from **98.286% to 98.82%** and we think that increasing the number of epochs even more may improve the accuracy even more\n",
    "\n",
    "\n"
   ]
  },
  {
   "cell_type": "code",
   "execution_count": 56,
   "metadata": {},
   "outputs": [],
   "source": [
    "model_json =model.to_json()\n",
    "with open(\"model.json\", \"w\") as json_file:\n",
    "    json_file.write(model_json)"
   ]
  },
  {
   "cell_type": "code",
   "execution_count": 57,
   "metadata": {},
   "outputs": [
    {
     "name": "stdout",
     "output_type": "stream",
     "text": [
      "Saved model to disk\n"
     ]
    }
   ],
   "source": [
    "model.save_weights(\"model.h5\")\n",
    "print(\"Saved model to disk\")"
   ]
  },
  {
   "cell_type": "markdown",
   "metadata": {},
   "source": [
    "## Comparing our model with simple vanilla cnn model on the same data"
   ]
  },
  {
   "cell_type": "code",
   "execution_count": 60,
   "metadata": {},
   "outputs": [
    {
     "name": "stdout",
     "output_type": "stream",
     "text": [
      "Epoch 1/5\n",
      "3672/3672 [==============================] - 37s 10ms/step - loss: 2.6770 - accuracy: 0.1903 - val_loss: 2.6653 - val_accuracy: 0.2213\n",
      "Epoch 2/5\n",
      "3672/3672 [==============================] - 60s 16ms/step - loss: 2.4276 - accuracy: 0.2674 - val_loss: 2.5695 - val_accuracy: 0.2705\n",
      "Epoch 3/5\n",
      "3672/3672 [==============================] - 36s 10ms/step - loss: 2.3447 - accuracy: 0.2993 - val_loss: 2.4942 - val_accuracy: 0.2832\n",
      "Epoch 4/5\n",
      "3672/3672 [==============================] - 55s 15ms/step - loss: 2.2720 - accuracy: 0.3310 - val_loss: 2.4284 - val_accuracy: 0.2972\n",
      "Epoch 5/5\n",
      "3672/3672 [==============================] - 51s 14ms/step - loss: 2.2082 - accuracy: 0.3532 - val_loss: 2.3620 - val_accuracy: 0.3218\n",
      "418/418 [==============================] - 2s 4ms/step - loss: 2.3620 - accuracy: 0.3218\n",
      "Baseline Model Test Accuracy: 0.3217547535896301\n",
      "Baseline Model Test Loss: 2.3620481491088867\n"
     ]
    }
   ],
   "source": [
    "from keras.models import Sequential\n",
    "from keras.layers import Conv2D, GlobalAveragePooling2D, Dense\n",
    "\n",
    "def create_model():\n",
    "    # Define the baseline model architecture\n",
    "    model = Sequential()\n",
    "    model.add(Conv2D(filters=16, kernel_size=3, padding='same', input_shape=(64, 64, 1), activation='relu')) # Input layer\n",
    "    model.add(GlobalAveragePooling2D())\n",
    "    model.add(Dense(38, activation = 'softmax')) # Output layer => output dimension = 38 as it is multi-class\n",
    "\n",
    "    # Compile the model\n",
    "    model.compile(loss='categorical_crossentropy', metrics=['accuracy'], optimizer='Adam')\n",
    "    return model\n",
    "\n",
    "def train_model(model, train_images, train_labels, epochs, batch_size, test_images, test_labels):\n",
    "    # Train the model\n",
    "    history = model.fit(train_images, train_labels, \n",
    "                  validation_data=(test_images, test_labels),\n",
    "                  epochs=epochs, batch_size=batch_size, verbose=1)\n",
    "\n",
    "    # Evaluate the model on the test set\n",
    "    metrics = model.evaluate(test_images, test_labels, verbose=1)\n",
    "    print(\"Model Test Accuracy: {}\".format(metrics[1]))\n",
    "    print(\"Model Test Loss: {}\".format(metrics[0]))\n",
    "    return history\n",
    "\n",
    "# Train the baseline model using the created functions\n",
    "epochs = 5\n",
    "batch_size = 20\n",
    "model = create_model()\n",
    "history = train_model(model, training_data_images, training_data_labels, epochs, batch_size, testing_data_images, testing_data_labels)"
   ]
  },
  {
   "cell_type": "markdown",
   "metadata": {},
   "source": [
    "We get test accuracy of **32.37%** from the baseline Model (vanilla). so our project outperfomed it as our test accuracy were **98.82%**"
   ]
  },
  {
   "cell_type": "markdown",
   "metadata": {},
   "source": [
    "## Predict Image Classes"
   ]
  },
  {
   "cell_type": "code",
   "execution_count": 76,
   "metadata": {},
   "outputs": [],
   "source": [
    "# import numpy as np\n",
    "\n",
    "def get_predicted_classes(model, data, labels=None):\n",
    "    \"\"\"\n",
    "    Gets predicted classes for given input data using the specified model.\n",
    "\n",
    "    Args:\n",
    "    model -- the trained model\n",
    "    data -- input data to be used for prediction\n",
    "    labels -- true class labels for the input data\n",
    "\n",
    "    Returns:\n",
    "    A tuple of predicted classes and true classes (if labels are provided).\n",
    "    \"\"\"\n",
    "    image_predictions = model.predict(data)\n",
    "    predicted_classes = np.argmax(image_predictions, axis=1)\n",
    "    if labels is not None:\n",
    "        true_classes = np.argmax(labels, axis=1)\n",
    "        return predicted_classes, true_classes\n",
    "    else:\n",
    "        return predicted_classes\n",
    "\n",
    "\n",
    "# def get_predicted_classes(model, data, labels=None):\n",
    "#   image_predictions = model.predict(data)\n",
    "#   predicted_classes = np.argmax(image_predictions, axis=1)\n",
    "#   true_classes = np.argmax(labels, axis=1)\n",
    "#   return predicted_classes, true_classes"
   ]
  },
  {
   "cell_type": "markdown",
   "metadata": {},
   "source": [
    "## Comparing Evaluation Metrics between Vanilla CNN Model and Our Final Model\n"
   ]
  },
  {
   "cell_type": "code",
   "execution_count": 77,
   "metadata": {},
   "outputs": [
    {
     "name": "stdout",
     "output_type": "stream",
     "text": [
      "Requirement already satisfied: joblib in c:\\users\\lenovo\\anaconda3\\lib\\site-packages (1.2.0)\n",
      "Requirement already satisfied: threadpoolctl in c:\\users\\lenovo\\anaconda3\\lib\\site-packages (3.1.0)\n"
     ]
    }
   ],
   "source": [
    "!pip install joblib\n",
    "!pip install threadpoolctl"
   ]
  },
  {
   "cell_type": "code",
   "execution_count": 78,
   "metadata": {},
   "outputs": [],
   "source": [
    "from sklearn.metrics import classification_report\n",
    "# import joblib\n",
    "\n",
    "def get_classification_report(y_true, y_pred):\n",
    "  print(classification_report(y_true, y_pred))"
   ]
  },
  {
   "cell_type": "code",
   "execution_count": 79,
   "metadata": {},
   "outputs": [
    {
     "name": "stdout",
     "output_type": "stream",
     "text": [
      "418/418 [==============================] - 5s 12ms/step\n",
      "              precision    recall  f1-score   support\n",
      "\n",
      "           0       0.99      0.98      0.99       999\n",
      "           1       0.99      0.99      0.99      1000\n",
      "           2       0.98      1.00      0.99      1000\n",
      "           3       1.00      0.99      1.00      1000\n",
      "           4       1.00      0.99      1.00      1000\n",
      "           5       0.99      0.99      0.99      1000\n",
      "           6       1.00      1.00      1.00      1000\n",
      "           7       1.00      1.00      1.00      1000\n",
      "           8       1.00      1.00      1.00      1000\n",
      "           9       1.00      0.99      1.00      1000\n",
      "          10       1.00      1.00      1.00       119\n",
      "          11       1.00      0.99      1.00       120\n",
      "          12       0.85      0.99      0.92       120\n",
      "          13       0.98      0.93      0.95       120\n",
      "          14       0.99      1.00      1.00       120\n",
      "          15       0.98      0.99      0.98       120\n",
      "          16       0.98      0.97      0.98       120\n",
      "          17       0.95      0.99      0.97       120\n",
      "          18       0.90      0.96      0.93       120\n",
      "          19       0.96      0.99      0.98       120\n",
      "          20       0.99      0.88      0.93       120\n",
      "          21       0.98      1.00      0.99       120\n",
      "          22       0.99      0.98      0.99       120\n",
      "          23       0.97      0.99      0.98       120\n",
      "          24       1.00      0.94      0.97       120\n",
      "          25       0.95      0.98      0.97       120\n",
      "          26       0.99      0.95      0.97       120\n",
      "          27       1.00      0.98      0.99       120\n",
      "          28       0.99      0.99      0.99       120\n",
      "          29       0.93      0.95      0.94       120\n",
      "          30       0.93      0.95      0.94       120\n",
      "          31       1.00      0.97      0.99       120\n",
      "          32       1.00      1.00      1.00       120\n",
      "          33       1.00      0.99      1.00       120\n",
      "          34       0.99      0.92      0.95       120\n",
      "          35       0.99      0.95      0.97       120\n",
      "          36       0.94      0.97      0.96       120\n",
      "          37       1.00      0.98      0.99       120\n",
      "\n",
      "    accuracy                           0.99     13358\n",
      "   macro avg       0.98      0.98      0.98     13358\n",
      "weighted avg       0.99      0.99      0.99     13358\n",
      "\n"
     ]
    }
   ],
   "source": [
    "y_pred, y_true = get_predicted_classes(model, testing_data_images, testing_data_labels)\n",
    "get_classification_report(y_true, y_pred)"
   ]
  },
  {
   "cell_type": "code",
   "execution_count": 80,
   "metadata": {},
   "outputs": [
    {
     "name": "stdout",
     "output_type": "stream",
     "text": [
      "418/418 [==============================] - 1s 3ms/step\n",
      "              precision    recall  f1-score   support\n",
      "\n",
      "           0       0.90      0.87      0.88       999\n",
      "           1       0.24      0.89      0.38      1000\n",
      "           2       0.26      0.03      0.06      1000\n",
      "           3       0.28      0.23      0.25      1000\n",
      "           4       0.23      0.73      0.35      1000\n",
      "           5       0.51      0.66      0.58      1000\n",
      "           6       0.20      0.12      0.15      1000\n",
      "           7       0.00      0.00      0.00      1000\n",
      "           8       0.28      0.70      0.41      1000\n",
      "           9       0.24      0.04      0.06      1000\n",
      "          10       0.00      0.00      0.00       119\n",
      "          11       0.00      0.00      0.00       120\n",
      "          12       0.00      0.00      0.00       120\n",
      "          13       0.00      0.00      0.00       120\n",
      "          14       0.00      0.00      0.00       120\n",
      "          15       0.00      0.00      0.00       120\n",
      "          16       0.00      0.00      0.00       120\n",
      "          17       0.39      0.29      0.33       120\n",
      "          18       0.00      0.00      0.00       120\n",
      "          19       0.00      0.00      0.00       120\n",
      "          20       0.00      0.00      0.00       120\n",
      "          21       0.00      0.00      0.00       120\n",
      "          22       0.00      0.00      0.00       120\n",
      "          23       0.00      0.00      0.00       120\n",
      "          24       0.00      0.00      0.00       120\n",
      "          25       0.00      0.00      0.00       120\n",
      "          26       0.00      0.00      0.00       120\n",
      "          27       0.00      0.00      0.00       120\n",
      "          28       0.00      0.00      0.00       120\n",
      "          29       0.00      0.00      0.00       120\n",
      "          30       0.00      0.00      0.00       120\n",
      "          31       0.00      0.00      0.00       120\n",
      "          32       0.00      0.00      0.00       120\n",
      "          33       0.00      0.00      0.00       120\n",
      "          34       0.00      0.00      0.00       120\n",
      "          35       0.00      0.00      0.00       120\n",
      "          36       0.00      0.00      0.00       120\n",
      "          37       0.00      0.00      0.00       120\n",
      "\n",
      "    accuracy                           0.32     13358\n",
      "   macro avg       0.09      0.12      0.09     13358\n",
      "weighted avg       0.24      0.32      0.24     13358\n",
      "\n"
     ]
    },
    {
     "name": "stderr",
     "output_type": "stream",
     "text": [
      "C:\\Users\\lenovo\\AppData\\Roaming\\Python\\Python38\\site-packages\\sklearn\\metrics\\_classification.py:1334: UndefinedMetricWarning: Precision and F-score are ill-defined and being set to 0.0 in labels with no predicted samples. Use `zero_division` parameter to control this behavior.\n",
      "  _warn_prf(average, modifier, msg_start, len(result))\n",
      "C:\\Users\\lenovo\\AppData\\Roaming\\Python\\Python38\\site-packages\\sklearn\\metrics\\_classification.py:1334: UndefinedMetricWarning: Precision and F-score are ill-defined and being set to 0.0 in labels with no predicted samples. Use `zero_division` parameter to control this behavior.\n",
      "  _warn_prf(average, modifier, msg_start, len(result))\n",
      "C:\\Users\\lenovo\\AppData\\Roaming\\Python\\Python38\\site-packages\\sklearn\\metrics\\_classification.py:1334: UndefinedMetricWarning: Precision and F-score are ill-defined and being set to 0.0 in labels with no predicted samples. Use `zero_division` parameter to control this behavior.\n",
      "  _warn_prf(average, modifier, msg_start, len(result))\n"
     ]
    }
   ],
   "source": [
    "y_pred, y_true = get_predicted_classes(baseline_model, testing_data_images, testing_data_labels)\n",
    "get_classification_report(y_true, y_pred)"
   ]
  },
  {
   "cell_type": "code",
   "execution_count": null,
   "metadata": {},
   "outputs": [],
   "source": []
  }
 ],
 "metadata": {
  "accelerator": "GPU",
  "colab": {
   "collapsed_sections": [],
   "name": "Copy of Arabic Handwritten Recognition.ipynb",
   "provenance": [],
   "toc_visible": true
  },
  "kernelspec": {
   "display_name": "Python 3 (ipykernel)",
   "language": "python",
   "name": "python3"
  },
  "language_info": {
   "codemirror_mode": {
    "name": "ipython",
    "version": 3
   },
   "file_extension": ".py",
   "mimetype": "text/x-python",
   "name": "python",
   "nbconvert_exporter": "python",
   "pygments_lexer": "ipython3",
   "version": "3.8.16"
  }
 },
 "nbformat": 4,
 "nbformat_minor": 1
}
