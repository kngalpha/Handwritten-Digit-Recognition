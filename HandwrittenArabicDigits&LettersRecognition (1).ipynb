{
 "cells": [
  {
   "cell_type": "markdown",
   "metadata": {
    "colab_type": "text",
    "id": "c6TiNABwkAhe"
   },
   "source": [
    "# Handwritten Arabic Digits & Letters Recognition"
   ]
  },
  {
   "cell_type": "markdown",
   "metadata": {},
   "source": [
    "## Submitted To Dr. Ghada Khoriba\n",
    "\n",
    "### **Contributers:**\n",
    "#### * **Nour Nasser**\n",
    "#### * **Abdalrahman Hassan**\n",
    "#### * **Ramez Shakran** \n",
    "#### * **Hussien Ehab** \n",
    "#### * **Mahmoud Ibrahim** "
   ]
  },
  {
   "cell_type": "markdown",
   "metadata": {
    "colab_type": "text",
    "id": "m6_ru2oupR7h"
   },
   "source": [
    "## Data Exploration\n"
   ]
  },
  {
   "cell_type": "markdown",
   "metadata": {
    "colab_type": "text",
    "id": "jJo8eDIRp5ku"
   },
   "source": [
    "1. Import libraries\n"
   ]
  },
  {
   "cell_type": "code",
   "execution_count": 61,
   "metadata": {
    "colab": {},
    "colab_type": "code",
    "id": "v3o6mEbK6W9v"
   },
   "outputs": [],
   "source": [
    "# Import main libraries necessary for this project\n",
    "import numpy as np\n",
    "import pandas as pd\n",
    "from IPython.display import display\n",
    "import csv\n",
    "from PIL import Image\n",
    "from scipy.ndimage import rotate\n",
    "import keras as keras\n",
    "import tensorflow as tf\n",
    "%matplotlib inline"
   ]
  },
  {
   "cell_type": "markdown",
   "metadata": {
    "colab_type": "text",
    "id": "rGcWZ2BBrLrr"
   },
   "source": [
    "### Loading Arabic Letters Dataset"
   ]
  },
  {
   "cell_type": "code",
   "execution_count": 62,
   "metadata": {
    "colab": {
     "base_uri": "https://localhost:8080/",
     "height": 287
    },
    "colab_type": "code",
    "id": "1MRwVjsDKpCN",
    "outputId": "ed64137f-e2f9-4908-b8ea-2b227519ce17"
   },
   "outputs": [
    {
     "name": "stdout",
     "output_type": "stream",
     "text": [
      "There are 13439 training arabic letter images of 64x64 pixels.\n",
      "There are 3359 testing arabic letter images of 64x64 pixels.\n"
     ]
    },
    {
     "data": {
      "text/html": [
       "<div>\n",
       "<style scoped>\n",
       "    .dataframe tbody tr th:only-of-type {\n",
       "        vertical-align: middle;\n",
       "    }\n",
       "\n",
       "    .dataframe tbody tr th {\n",
       "        vertical-align: top;\n",
       "    }\n",
       "\n",
       "    .dataframe thead th {\n",
       "        text-align: right;\n",
       "    }\n",
       "</style>\n",
       "<table border=\"1\" class=\"dataframe\">\n",
       "  <thead>\n",
       "    <tr style=\"text-align: right;\">\n",
       "      <th></th>\n",
       "      <th>0</th>\n",
       "      <th>0.1</th>\n",
       "      <th>0.2</th>\n",
       "      <th>0.3</th>\n",
       "      <th>0.4</th>\n",
       "      <th>0.5</th>\n",
       "      <th>0.6</th>\n",
       "      <th>0.7</th>\n",
       "      <th>0.8</th>\n",
       "      <th>0.9</th>\n",
       "      <th>...</th>\n",
       "      <th>0.3438</th>\n",
       "      <th>0.3439</th>\n",
       "      <th>0.3440</th>\n",
       "      <th>0.3441</th>\n",
       "      <th>0.3442</th>\n",
       "      <th>0.3443</th>\n",
       "      <th>0.3444</th>\n",
       "      <th>0.3445</th>\n",
       "      <th>0.3446</th>\n",
       "      <th>0.3447</th>\n",
       "    </tr>\n",
       "  </thead>\n",
       "  <tbody>\n",
       "    <tr>\n",
       "      <th>0</th>\n",
       "      <td>0</td>\n",
       "      <td>0</td>\n",
       "      <td>0</td>\n",
       "      <td>0</td>\n",
       "      <td>0</td>\n",
       "      <td>0</td>\n",
       "      <td>0</td>\n",
       "      <td>0</td>\n",
       "      <td>0</td>\n",
       "      <td>0</td>\n",
       "      <td>...</td>\n",
       "      <td>0</td>\n",
       "      <td>0</td>\n",
       "      <td>0</td>\n",
       "      <td>0</td>\n",
       "      <td>0</td>\n",
       "      <td>0</td>\n",
       "      <td>0</td>\n",
       "      <td>0</td>\n",
       "      <td>0</td>\n",
       "      <td>0</td>\n",
       "    </tr>\n",
       "    <tr>\n",
       "      <th>1</th>\n",
       "      <td>0</td>\n",
       "      <td>0</td>\n",
       "      <td>0</td>\n",
       "      <td>0</td>\n",
       "      <td>0</td>\n",
       "      <td>0</td>\n",
       "      <td>0</td>\n",
       "      <td>0</td>\n",
       "      <td>0</td>\n",
       "      <td>0</td>\n",
       "      <td>...</td>\n",
       "      <td>0</td>\n",
       "      <td>0</td>\n",
       "      <td>0</td>\n",
       "      <td>0</td>\n",
       "      <td>0</td>\n",
       "      <td>0</td>\n",
       "      <td>0</td>\n",
       "      <td>0</td>\n",
       "      <td>0</td>\n",
       "      <td>0</td>\n",
       "    </tr>\n",
       "    <tr>\n",
       "      <th>2</th>\n",
       "      <td>0</td>\n",
       "      <td>0</td>\n",
       "      <td>0</td>\n",
       "      <td>0</td>\n",
       "      <td>0</td>\n",
       "      <td>0</td>\n",
       "      <td>0</td>\n",
       "      <td>0</td>\n",
       "      <td>0</td>\n",
       "      <td>0</td>\n",
       "      <td>...</td>\n",
       "      <td>0</td>\n",
       "      <td>0</td>\n",
       "      <td>0</td>\n",
       "      <td>0</td>\n",
       "      <td>0</td>\n",
       "      <td>0</td>\n",
       "      <td>0</td>\n",
       "      <td>0</td>\n",
       "      <td>0</td>\n",
       "      <td>0</td>\n",
       "    </tr>\n",
       "    <tr>\n",
       "      <th>3</th>\n",
       "      <td>0</td>\n",
       "      <td>0</td>\n",
       "      <td>0</td>\n",
       "      <td>0</td>\n",
       "      <td>0</td>\n",
       "      <td>0</td>\n",
       "      <td>0</td>\n",
       "      <td>0</td>\n",
       "      <td>0</td>\n",
       "      <td>0</td>\n",
       "      <td>...</td>\n",
       "      <td>0</td>\n",
       "      <td>0</td>\n",
       "      <td>0</td>\n",
       "      <td>0</td>\n",
       "      <td>0</td>\n",
       "      <td>0</td>\n",
       "      <td>0</td>\n",
       "      <td>0</td>\n",
       "      <td>0</td>\n",
       "      <td>0</td>\n",
       "    </tr>\n",
       "    <tr>\n",
       "      <th>4</th>\n",
       "      <td>0</td>\n",
       "      <td>0</td>\n",
       "      <td>0</td>\n",
       "      <td>0</td>\n",
       "      <td>0</td>\n",
       "      <td>0</td>\n",
       "      <td>0</td>\n",
       "      <td>0</td>\n",
       "      <td>0</td>\n",
       "      <td>0</td>\n",
       "      <td>...</td>\n",
       "      <td>0</td>\n",
       "      <td>0</td>\n",
       "      <td>0</td>\n",
       "      <td>0</td>\n",
       "      <td>0</td>\n",
       "      <td>0</td>\n",
       "      <td>0</td>\n",
       "      <td>0</td>\n",
       "      <td>0</td>\n",
       "      <td>0</td>\n",
       "    </tr>\n",
       "  </tbody>\n",
       "</table>\n",
       "<p>5 rows × 4096 columns</p>\n",
       "</div>"
      ],
      "text/plain": [
       "   0  0.1  0.2  0.3  0.4  0.5  0.6  0.7  0.8  0.9  ...  0.3438  0.3439  \\\n",
       "0  0    0    0    0    0    0    0    0    0    0  ...       0       0   \n",
       "1  0    0    0    0    0    0    0    0    0    0  ...       0       0   \n",
       "2  0    0    0    0    0    0    0    0    0    0  ...       0       0   \n",
       "3  0    0    0    0    0    0    0    0    0    0  ...       0       0   \n",
       "4  0    0    0    0    0    0    0    0    0    0  ...       0       0   \n",
       "\n",
       "   0.3440  0.3441  0.3442  0.3443  0.3444  0.3445  0.3446  0.3447  \n",
       "0       0       0       0       0       0       0       0       0  \n",
       "1       0       0       0       0       0       0       0       0  \n",
       "2       0       0       0       0       0       0       0       0  \n",
       "3       0       0       0       0       0       0       0       0  \n",
       "4       0       0       0       0       0       0       0       0  \n",
       "\n",
       "[5 rows x 4096 columns]"
      ]
     },
     "execution_count": 62,
     "metadata": {},
     "output_type": "execute_result"
    }
   ],
   "source": [
    "# Loading dataset into dataframes\n",
    "training_letters_images = pd.read_csv('training images.csv')\n",
    "training_letters_labels = pd.read_csv('training labels.csv')\n",
    "testing_letters_images = pd.read_csv('testing images.csv')\n",
    "testing_letters_labels = pd.read_csv('testing labels.csv')\n",
    "\n",
    "# print statistics about the dataset\n",
    "print(\"There are %d training arabic letter images of 64x64 pixels.\" %training_letters_images.shape[0])\n",
    "print(\"There are %d testing arabic letter images of 64x64 pixels.\" %testing_letters_images.shape[0])\n",
    "training_letters_images.head()"
   ]
  },
  {
   "cell_type": "markdown",
   "metadata": {
    "colab_type": "text",
    "id": "KuPNRawns2BV"
   },
   "source": [
    "### Loading Arabic Digits Dataset"
   ]
  },
  {
   "cell_type": "code",
   "execution_count": 63,
   "metadata": {
    "colab": {
     "base_uri": "https://localhost:8080/",
     "height": 51
    },
    "colab_type": "code",
    "id": "Zyoid-WpLjXT",
    "outputId": "504deeac-a270-4927-b4c6-34ff7d9304c9"
   },
   "outputs": [
    {
     "name": "stdout",
     "output_type": "stream",
     "text": [
      "There are 59999 training arabic digit images of 64x64 pixels.\n",
      "There are 9999 testing arabic digit images of 64x64 pixels.\n"
     ]
    }
   ],
   "source": [
    "# Loading dataset into dataframes\n",
    "training_digits_images = pd.read_csv(\"training digits images.csv\")\n",
    "training_digits_labels = pd.read_csv(\"training digits labels.csv\")\n",
    "testing_digits_images = pd.read_csv(\"testing digits images.csv\")\n",
    "testing_digits_labels = pd.read_csv(\"testing digits labels.csv\")\n",
    "\n",
    "# print statistics about the dataset\n",
    "print(\"There are %d training arabic digit images of 64x64 pixels.\" %training_digits_images.shape[0])\n",
    "print(\"There are %d testing arabic digit images of 64x64 pixels.\" %testing_digits_images.shape[0])"
   ]
  },
  {
   "cell_type": "markdown",
   "metadata": {
    "colab_type": "text",
    "id": "LGFth_ks0VH4"
   },
   "source": [
    "### Convert csv values to an image \n",
    "Writting a method to be used later if we want visualization of an image from its pixels values."
   ]
  },
  {
   "cell_type": "code",
   "execution_count": 64,
   "metadata": {
    "colab": {},
    "colab_type": "code",
    "id": "2MbTUT_mMBGH"
   },
   "outputs": [],
   "source": [
    "from scipy.ndimage import rotate\n",
    "\n",
    "# Define function and its arguments\n",
    "def convertValuesToImages(image_values, display=False):\n",
    "    # Convert input values to numpy array with uint8 data type and reshape to (64, 64) shape\n",
    "    image_array = np.array(image_values, dtype=np.uint8).reshape(64, 64)\n",
    "\n",
    "    # Apply flip and rotation transformations to the input image array\n",
    "    # Flip along the vertical axis and rotate by 90 degrees clockwise\n",
    "    modified_image = np.rot90(np.fliplr(image_array))\n",
    "\n",
    "    # Display the modified image if the display argument is set to True\n",
    "    if display:\n",
    "        Image.fromarray(modified_image).show()\n",
    "\n",
    "    # Convert the modified image array to a PIL image object and return it\n",
    "    return Image.fromarray(modified_image)"
   ]
  },
  {
   "cell_type": "markdown",
   "metadata": {
    "colab_type": "text",
    "id": "MBwu1eDk0mjj"
   },
   "source": [
    "### Visualizing some examples"
   ]
  },
  {
   "cell_type": "code",
   "execution_count": 65,
   "metadata": {
    "colab": {
     "base_uri": "https://localhost:8080/",
     "height": 81
    },
    "colab_type": "code",
    "id": "pX4PxwqbyQg8",
    "outputId": "6433de79-c1f7-4c09-afc5-e17b782b8cc4"
   },
   "outputs": [
    {
     "data": {
      "image/png": "[encoded data removed]",
      "text/plain": [
       "<PIL.Image.Image image mode=L size=64x64>"
      ]
     },
     "execution_count": 65,
     "metadata": {},
     "output_type": "execute_result"
    }
   ],
   "source": [
    "convertValuesToImages(training_letters_images.loc[0], True)"
   ]
  },
  {
   "cell_type": "code",
   "execution_count": 66,
   "metadata": {
    "colab": {
     "base_uri": "https://localhost:8080/",
     "height": 81
    },
    "colab_type": "code",
    "id": "R0J_oTy0yeXb",
    "outputId": "77ab78b1-95e9-4c4e-dfcb-0a2dbbc9ab4e"
   },
   "outputs": [
    {
     "data": {
      "image/png": "[encoded data removed]",
      "text/plain": [
       "<PIL.Image.Image image mode=L size=64x64>"
      ]
     },
     "execution_count": 66,
     "metadata": {},
     "output_type": "execute_result"
    }
   ],
   "source": [
    "convertValuesToImages(training_letters_images.loc[12], True)"
   ]
  },
  {
   "cell_type": "code",
   "execution_count": 67,
   "metadata": {
    "colab": {
     "base_uri": "https://localhost:8080/",
     "height": 81
    },
    "colab_type": "code",
    "id": "IVwNBEIj2dcK",
    "outputId": "1d587abd-eee0-4c3d-c3bb-2ebf64c188b1"
   },
   "outputs": [
    {
     "data": {
      "image/png": "[encoded data removed]",
      "text/plain": [
       "<PIL.Image.Image image mode=L size=64x64>"
      ]
     },
     "execution_count": 67,
     "metadata": {},
     "output_type": "execute_result"
    }
   ],
   "source": [
    "convertValuesToImages(training_letters_images.loc[37], True)"
   ]
  },
  {
   "cell_type": "code",
   "execution_count": 68,
   "metadata": {
    "colab": {
     "base_uri": "https://localhost:8080/",
     "height": 81
    },
    "colab_type": "code",
    "id": "pNKxXW5-2fl9",
    "outputId": "d94f24dd-9059-48eb-f19e-b81cf97a5dc3"
   },
   "outputs": [
    {
     "data": {
      "image/png": "[encoded data removed]",
      "text/plain": [
       "<PIL.Image.Image image mode=L size=64x64>"
      ]
     },
     "execution_count": 68,
     "metadata": {},
     "output_type": "execute_result"
    }
   ],
   "source": [
    "convertValuesToImages(training_letters_images.loc[3000], True)"
   ]
  },
  {
   "cell_type": "code",
   "execution_count": 69,
   "metadata": {
    "colab": {
     "base_uri": "https://localhost:8080/",
     "height": 81
    },
    "colab_type": "code",
    "id": "FIYtePhT2iBr",
    "outputId": "d51afddf-7a83-4b04-c29f-a6ad3c1eb271"
   },
   "outputs": [
    {
     "data": {
      "image/png": "[encoded data removed]",
      "text/plain": [
       "<PIL.Image.Image image mode=L size=64x64>"
      ]
     },
     "execution_count": 69,
     "metadata": {},
     "output_type": "execute_result"
    }
   ],
   "source": [
    "convertValuesToImages(training_digits_images.loc[0], True)"
   ]
  },
  {
   "cell_type": "code",
   "execution_count": 70,
   "metadata": {
    "colab": {
     "base_uri": "https://localhost:8080/",
     "height": 81
    },
    "colab_type": "code",
    "id": "zdnSlqNxYB_H",
    "outputId": "db1dd27a-fefe-4ec2-bf3e-ffa57066541e"
   },
   "outputs": [
    {
     "data": {
      "image/png": "[encoded data removed]",
      "text/plain": [
       "<PIL.Image.Image image mode=L size=64x64>"
      ]
     },
     "execution_count": 70,
     "metadata": {},
     "output_type": "execute_result"
    }
   ],
   "source": [
    "convertValuesToImages(training_digits_images.loc[2], True)"
   ]
  },
  {
   "cell_type": "code",
   "execution_count": 71,
   "metadata": {
    "colab": {
     "base_uri": "https://localhost:8080/",
     "height": 81
    },
    "colab_type": "code",
    "id": "hlSt-2_2i8O1",
    "outputId": "464c57e0-2b7a-4c4d-f2df-aab1a0dbb5a5"
   },
   "outputs": [
    {
     "data": {
      "image/png": "[encoded data removed]",
      "text/plain": [
       "<PIL.Image.Image image mode=L size=64x64>"
      ]
     },
     "execution_count": 71,
     "metadata": {},
     "output_type": "execute_result"
    }
   ],
   "source": [
    "convertValuesToImages(training_digits_images.loc[7], True)"
   ]
  },
  {
   "cell_type": "code",
   "execution_count": 72,
   "metadata": {
    "colab": {
     "base_uri": "https://localhost:8080/",
     "height": 81
    },
    "colab_type": "code",
    "id": "xsucycIri9ht",
    "outputId": "714e35f7-37a0-408e-c0d6-1bba94836e82"
   },
   "outputs": [
    {
     "data": {
      "image/png": "[encoded data removed]",
      "text/plain": [
       "<PIL.Image.Image image mode=L size=64x64>"
      ]
     },
     "execution_count": 72,
     "metadata": {},
     "output_type": "execute_result"
    }
   ],
   "source": [
    "convertValuesToImages(training_digits_images.loc[9], True)"
   ]
  },
  {
   "cell_type": "markdown",
   "metadata": {
    "colab_type": "text",
    "id": "ZZT4fEuLoLXw"
   },
   "source": [
    "## Data Preprocessing"
   ]
  },
  {
   "cell_type": "markdown",
   "metadata": {
    "colab_type": "text",
    "id": "TZH8hpO_qgem"
   },
   "source": [
    "### Image Normalization\n",
    "We rescale the images by dividing every pixel in the image by 255 to make them into range [0, 1]"
   ]
  },
  {
   "cell_type": "code",
   "execution_count": 73,
   "metadata": {
    "colab": {},
    "colab_type": "code",
    "id": "1HJI0WG0oNmT"
   },
   "outputs": [],
   "source": [
    "training_digits_images_scaled = training_digits_images.values.astype('float32')/255\n",
    "training_digits_labels = training_digits_labels.values.astype('int32')\n",
    "testing_digits_images_scaled = testing_digits_images.values.astype('float32')/255\n",
    "testing_digits_labels = testing_digits_labels.values.astype('int32')\n",
    "\n",
    "training_letters_images_scaled = training_letters_images.values.astype('float32')/255\n",
    "training_letters_labels = training_letters_labels.values.astype('int32')\n",
    "testing_letters_images_scaled = testing_letters_images.values.astype('float32')/255\n",
    "testing_letters_labels = testing_letters_labels.values.astype('int32')"
   ]
  },
  {
   "cell_type": "code",
   "execution_count": 74,
   "metadata": {
    "colab": {
     "base_uri": "https://localhost:8080/",
     "height": 136
    },
    "colab_type": "code",
    "id": "4GtF5Gc4sGsv",
    "outputId": "5f730686-de88-47dc-a308-2618ddcdd152"
   },
   "outputs": [
    {
     "name": "stdout",
     "output_type": "stream",
     "text": [
      "Training images of digits after scaling\n",
      "(59999, 4096)\n"
     ]
    },
    {
     "data": {
      "text/plain": [
       "array([[0., 0., 0., ..., 0., 0., 0.],\n",
       "       [0., 0., 0., ..., 0., 0., 0.],\n",
       "       [0., 0., 0., ..., 0., 0., 0.],\n",
       "       [0., 0., 0., ..., 0., 0., 0.],\n",
       "       [0., 0., 0., ..., 0., 0., 0.]], dtype=float32)"
      ]
     },
     "execution_count": 74,
     "metadata": {},
     "output_type": "execute_result"
    }
   ],
   "source": [
    "print(\"Training images of digits after scaling\")\n",
    "print(training_digits_images_scaled.shape)\n",
    "training_digits_images_scaled[0:5]"
   ]
  },
  {
   "cell_type": "code",
   "execution_count": 75,
   "metadata": {
    "colab": {
     "base_uri": "https://localhost:8080/",
     "height": 136
    },
    "colab_type": "code",
    "id": "n68sxKC0sTkq",
    "outputId": "15a162f4-6ba7-4b01-d8b5-81c4e2eced74"
   },
   "outputs": [
    {
     "name": "stdout",
     "output_type": "stream",
     "text": [
      "Training images of letters after scaling\n",
      "(13439, 4096)\n"
     ]
    },
    {
     "data": {
      "text/plain": [
       "array([[0., 0., 0., ..., 0., 0., 0.],\n",
       "       [0., 0., 0., ..., 0., 0., 0.],\n",
       "       [0., 0., 0., ..., 0., 0., 0.],\n",
       "       [0., 0., 0., ..., 0., 0., 0.],\n",
       "       [0., 0., 0., ..., 0., 0., 0.]], dtype=float32)"
      ]
     },
     "execution_count": 75,
     "metadata": {},
     "output_type": "execute_result"
    }
   ],
   "source": [
    "print(\"Training images of letters after scaling\")\n",
    "print(training_letters_images_scaled.shape)\n",
    "training_letters_images_scaled[0:5]"
   ]
  },
  {
   "cell_type": "markdown",
   "metadata": {
    "colab_type": "text",
    "id": "T-X1SJjnsq8b"
   },
   "source": [
    "### Encoding Categorical Labels\n",
    "From the labels csv files we can see that labels are categorical values and it is a multi-class classification problem. \n",
    "\n",
    "Our outputs are in the form of:\n",
    "* Digits from 0 to 9 have categories numbers from 0 to 9\n",
    "* Letters from ’alef’ to ’yeh’ have categories numbers from 10 to 37\n",
    "\n",
    "**Here we will encode these categories values using One Hot Encoding with keras.**\n",
    "\n",
    "One-hot encoding transforms integer to a binary matrix where the array contains only one ‘1’ and the rest elements are ‘0’.\n",
    "\n"
   ]
  },
  {
   "cell_type": "code",
   "execution_count": 76,
   "metadata": {
    "colab": {
     "base_uri": "https://localhost:8080/",
     "height": 34
    },
    "colab_type": "code",
    "id": "uQyT17YzsU7U",
    "outputId": "bcc5de2e-c436-44f6-b987-f5d8d376a447"
   },
   "outputs": [],
   "source": [
    "from keras.utils import to_categorical\n",
    "\n",
    "number_of_classes = 38\n",
    "training_letters_labels_encoded = to_categorical(training_letters_labels, num_classes=number_of_classes)\n",
    "testing_letters_labels_encoded = to_categorical(testing_letters_labels, num_classes=number_of_classes)\n",
    "training_digits_labels_encoded = to_categorical(training_digits_labels, num_classes=number_of_classes)\n",
    "testing_digits_labels_encoded = to_categorical(testing_digits_labels, num_classes=number_of_classes)"
   ]
  },
  {
   "cell_type": "code",
   "execution_count": 77,
   "metadata": {
    "colab": {
     "base_uri": "https://localhost:8080/",
     "height": 136
    },
    "colab_type": "code",
    "id": "9CyoYTDl1BXD",
    "outputId": "417bbbb9-04d4-4a7d-f61f-78c732d241b5",
    "scrolled": true
   },
   "outputs": [
    {
     "name": "stdout",
     "output_type": "stream",
     "text": [
      "[[0. 1. 0. ... 0. 0. 0.]\n",
      " [0. 0. 1. ... 0. 0. 0.]\n",
      " [0. 0. 0. ... 0. 0. 0.]\n",
      " ...\n",
      " [0. 0. 0. ... 0. 0. 0.]\n",
      " [0. 0. 0. ... 0. 0. 0.]\n",
      " [0. 0. 0. ... 0. 0. 0.]]\n"
     ]
    }
   ],
   "source": [
    "print(training_digits_labels_encoded)"
   ]
  },
  {
   "cell_type": "code",
   "execution_count": 78,
   "metadata": {},
   "outputs": [
    {
     "name": "stdout",
     "output_type": "stream",
     "text": [
      "[[0. 0. 0. ... 0. 0. 0.]\n",
      " [0. 0. 0. ... 0. 0. 0.]\n",
      " [0. 0. 0. ... 0. 0. 0.]\n",
      " ...\n",
      " [0. 0. 0. ... 0. 0. 1.]\n",
      " [0. 0. 0. ... 0. 0. 1.]\n",
      " [0. 0. 0. ... 0. 0. 1.]]\n"
     ]
    }
   ],
   "source": [
    "print(training_letters_labels_encoded)"
   ]
  },
  {
   "cell_type": "markdown",
   "metadata": {
    "colab_type": "text",
    "id": "nsJzI6Gp5bbA"
   },
   "source": [
    "### Reshaping Input Images to 64x64x1\n"
   ]
  },
  {
   "cell_type": "markdown",
   "metadata": {
    "colab_type": "text",
    "id": "VDldXMz76EQH"
   },
   "source": [
    "**we will reshape the input images to a 4D tensor with shape\n",
    "(nb_samples, 64, 64 ,1)** as we use grayscale images of 64x64 pixels."
   ]
  },
  {
   "cell_type": "code",
   "execution_count": 79,
   "metadata": {
    "colab": {
     "base_uri": "https://localhost:8080/",
     "height": 51
    },
    "colab_type": "code",
    "id": "EWTQ0nq85wWL",
    "outputId": "fae3559a-8abf-4888-dddf-1bafa65b7afc"
   },
   "outputs": [
    {
     "name": "stdout",
     "output_type": "stream",
     "text": [
      "(59999, 64, 64, 1) (59999, 38) (9999, 64, 64, 1) (9999, 38)\n",
      "(13439, 64, 64, 1) (13439, 38) (3359, 64, 64, 1) (3359, 38)\n"
     ]
    }
   ],
   "source": [
    "# reshape input digit images to 64x64x1\n",
    "training_digits_images_scaled = training_digits_images_scaled.reshape([-1, 64, 64, 1])\n",
    "testing_digits_images_scaled = testing_digits_images_scaled.reshape([-1, 64, 64, 1])\n",
    "\n",
    "# reshape input letter images to 64x64x1\n",
    "training_letters_images_scaled = training_letters_images_scaled.reshape([-1, 64, 64, 1])\n",
    "testing_letters_images_scaled = testing_letters_images_scaled.reshape([-1, 64, 64, 1])\n",
    "\n",
    "print(training_digits_images_scaled.shape, training_digits_labels_encoded.shape, testing_digits_images_scaled.shape, testing_digits_labels_encoded.shape)\n",
    "print(training_letters_images_scaled.shape, training_letters_labels_encoded.shape, testing_letters_images_scaled.shape, testing_letters_labels_encoded.shape)"
   ]
  },
  {
   "cell_type": "markdown",
   "metadata": {
    "colab_type": "text",
    "id": "Gtsr1vVaYS9D"
   },
   "source": [
    "### Merging Letters and Digits Datasets"
   ]
  },
  {
   "cell_type": "code",
   "execution_count": 80,
   "metadata": {
    "colab": {
     "base_uri": "https://localhost:8080/",
     "height": 85
    },
    "colab_type": "code",
    "id": "1bdfCcFpYpA_",
    "outputId": "8d6b7393-2618-42d0-bee4-98b2e02a787e"
   },
   "outputs": [
    {
     "name": "stdout",
     "output_type": "stream",
     "text": [
      "Total Training images are 73438 images of shape\n",
      "(73438, 64, 64, 1) (73438, 38)\n",
      "Total Testing images are 13358 images of shape\n",
      "(13358, 64, 64, 1) (13358, 38)\n"
     ]
    }
   ],
   "source": [
    "training_data_images = np.concatenate((training_digits_images_scaled, training_letters_images_scaled), axis=0) \n",
    "training_data_labels = np.concatenate((training_digits_labels_encoded, training_letters_labels_encoded), axis=0)\n",
    "print(\"Total Training images are {} images of shape\".format(training_data_images.shape[0]))\n",
    "print(training_data_images.shape, training_data_labels.shape)\n",
    "\n",
    "\n",
    "testing_data_images = np.concatenate((testing_digits_images_scaled, testing_letters_images_scaled), axis=0) \n",
    "testing_data_labels = np.concatenate((testing_digits_labels_encoded, testing_letters_labels_encoded), axis=0)\n",
    "print(\"Total Testing images are {} images of shape\".format(testing_data_images.shape[0]))\n",
    "print(testing_data_images.shape, testing_data_labels.shape)\n"
   ]
  },
  {
   "cell_type": "markdown",
   "metadata": {
    "colab_type": "text",
    "id": "bsZR7mb89UoI"
   },
   "source": [
    "## Designing Model Architecture"
   ]
  },
  {
   "cell_type": "markdown",
   "metadata": {
    "colab_type": "text",
    "id": "7DImv-hIKSOf"
   },
   "source": [
    "Now we will make a method which creates the model architecture with the specified optimizer and activation functions."
   ]
  },
  {
   "cell_type": "code",
   "execution_count": 81,
   "metadata": {
    "colab": {},
    "colab_type": "code",
    "id": "iHOTAM-w79Ak"
   },
   "outputs": [],
   "source": [
    "from keras.models import Sequential\n",
    "from keras.layers import Conv2D, MaxPooling2D, GlobalAveragePooling2D, BatchNormalization, Dropout, Dense\n",
    "\n",
    "def create_model(optimizer='adam', kernel_initializer='he_normal', activation='relu'):\n",
    "  # create model\n",
    "  model = Sequential()\n",
    "  model.add(Conv2D(filters=16, kernel_size=3, padding='same', input_shape=(64, 64, 1), kernel_initializer=kernel_initializer, activation=activation))\n",
    "  model.add(BatchNormalization())\n",
    "  model.add(MaxPooling2D(pool_size=2))\n",
    "  model.add(Dropout(0.2))\n",
    "\n",
    "  model.add(Conv2D(filters=32, kernel_size=3, padding='same', kernel_initializer=kernel_initializer, activation=activation))\n",
    "  model.add(BatchNormalization())\n",
    "  model.add(MaxPooling2D(pool_size=2))\n",
    "  model.add(Dropout(0.2))\n",
    "\n",
    "  model.add(Conv2D(filters=64, kernel_size=3, padding='same', kernel_initializer=kernel_initializer, activation=activation))\n",
    "  model.add(BatchNormalization())\n",
    "  model.add(MaxPooling2D(pool_size=2))\n",
    "  model.add(Dropout(0.2))\n",
    "\n",
    "  model.add(Conv2D(filters=128, kernel_size=3, padding='same', kernel_initializer=kernel_initializer, activation=activation))\n",
    "  model.add(BatchNormalization())\n",
    "  model.add(MaxPooling2D(pool_size=2))\n",
    "  model.add(Dropout(0.2))\n",
    "  model.add(GlobalAveragePooling2D())\n",
    "  \n",
    "  #Fully connected final layer\n",
    "  model.add(Dense(38, activation='softmax'))\n",
    "\n",
    "  # Compile model\n",
    "  model.compile(loss='categorical_crossentropy', metrics=['accuracy'], optimizer=optimizer)\n",
    "  return model"
   ]
  },
  {
   "cell_type": "markdown",
   "metadata": {
    "colab_type": "text",
    "id": "Wuqb1snmHPqW"
   },
   "source": [
    "* The first layer is a convolutional layer with 16 feature maps and a 3x3 size. It has a relu activation function and is the input layer for images.\n",
    "* The second layer is Batch Normalization, which helps with faster learning and higher accuracy by solving distribution issues \n",
    "* The third layer is the MaxPooling layer, which reduces overfitting and the number of parameters to learn, and the training time.\n",
    "* The next layer is a Regularization layer using dropout to reduce overfitting.\n",
    "* Another hidden layer with 32 feature maps with the size of 3×3 and a relu activation function to capture more features from the image.\n",
    "* OThere are other hidden layers with varying feature maps and activation functions to capture patterns from the image.\n",
    "* More MaxPooling, Batch Normalization, Regularization and GlobalAveragePooling2D layers.\n",
    "* The last layer is the output layer with 10 neurons using softmax activation function for multi-class classification\n",
    "\n",
    "**Categorical_crossentropy is used as the loss function as this is multi-class classification problem and accuracy is used as metrics for improved performance.**\n"
   ]
  },
  {
   "cell_type": "markdown",
   "metadata": {
    "colab_type": "text",
    "id": "_GdoRPe6LiRV"
   },
   "source": [
    "## Model Summary And Visualization"
   ]
  },
  {
   "cell_type": "code",
   "execution_count": 82,
   "metadata": {
    "colab": {
     "base_uri": "https://localhost:8080/",
     "height": 765
    },
    "colab_type": "code",
    "id": "GzgiwjyPLmrp",
    "outputId": "5fa3a42f-9e06-4798-bbd2-38d5011e9547",
    "scrolled": true
   },
   "outputs": [
    {
     "name": "stdout",
     "output_type": "stream",
     "text": [
      "Model: \"sequential_4\"\n",
      "_________________________________________________________________\n",
      " Layer (type)                Output Shape              Param #   \n",
      "=================================================================\n",
      " conv2d_10 (Conv2D)          (None, 64, 64, 16)        160       \n",
      "                                                                 \n",
      " batch_normalization_8 (Batc  (None, 64, 64, 16)       64        \n",
      " hNormalization)                                                 \n",
      "                                                                 \n",
      " max_pooling2d_8 (MaxPooling  (None, 32, 32, 16)       0         \n",
      " 2D)                                                             \n",
      "                                                                 \n",
      " dropout_8 (Dropout)         (None, 32, 32, 16)        0         \n",
      "                                                                 \n",
      " conv2d_11 (Conv2D)          (None, 32, 32, 32)        4640      \n",
      "                                                                 \n",
      " batch_normalization_9 (Batc  (None, 32, 32, 32)       128       \n",
      " hNormalization)                                                 \n",
      "                                                                 \n",
      " max_pooling2d_9 (MaxPooling  (None, 16, 16, 32)       0         \n",
      " 2D)                                                             \n",
      "                                                                 \n",
      " dropout_9 (Dropout)         (None, 16, 16, 32)        0         \n",
      "                                                                 \n",
      " conv2d_12 (Conv2D)          (None, 16, 16, 64)        18496     \n",
      "                                                                 \n",
      " batch_normalization_10 (Bat  (None, 16, 16, 64)       256       \n",
      " chNormalization)                                                \n",
      "                                                                 \n",
      " max_pooling2d_10 (MaxPoolin  (None, 8, 8, 64)         0         \n",
      " g2D)                                                            \n",
      "                                                                 \n",
      " dropout_10 (Dropout)        (None, 8, 8, 64)          0         \n",
      "                                                                 \n",
      " conv2d_13 (Conv2D)          (None, 8, 8, 128)         73856     \n",
      "                                                                 \n",
      " batch_normalization_11 (Bat  (None, 8, 8, 128)        512       \n",
      " chNormalization)                                                \n",
      "                                                                 \n",
      " max_pooling2d_11 (MaxPoolin  (None, 4, 4, 128)        0         \n",
      " g2D)                                                            \n",
      "                                                                 \n",
      " dropout_11 (Dropout)        (None, 4, 4, 128)         0         \n",
      "                                                                 \n",
      " global_average_pooling2d_4   (None, 128)              0         \n",
      " (GlobalAveragePooling2D)                                        \n",
      "                                                                 \n",
      " dense_4 (Dense)             (None, 38)                4902      \n",
      "                                                                 \n",
      "=================================================================\n",
      "Total params: 103,014\n",
      "Trainable params: 102,534\n",
      "Non-trainable params: 480\n",
      "_________________________________________________________________\n"
     ]
    }
   ],
   "source": [
    "model = create_model()\n",
    "model.summary()"
   ]
  },
  {
   "cell_type": "code",
   "execution_count": 83,
   "metadata": {
    "colab": {
     "base_uri": "https://localhost:8080/",
     "height": 1000
    },
    "colab_type": "code",
    "id": "B1zpgDtwMtEU",
    "outputId": "2f49025d-be39-4595-9206-a31a8740ea19"
   },
   "outputs": [
    {
     "data": {
      "image/png": "[encoded data removed]",
      "text/plain": [
       "<IPython.core.display.Image object>"
      ]
     },
     "metadata": {},
     "output_type": "display_data"
    }
   ],
   "source": [
    "from keras.utils import plot_model\n",
    "\n",
    "plot_model(model, to_file=\"model.png\", show_shapes=True)\n",
    "from IPython.display import Image as IPythonImage\n",
    "display(IPythonImage('model.png'))"
   ]
  },
  {
   "cell_type": "markdown",
   "metadata": {
    "colab_type": "text",
    "id": "XKburGrWjUug"
   },
   "source": [
    "## Parameters Tuning"
   ]
  },
  {
   "cell_type": "markdown",
   "metadata": {
    "colab_type": "text",
    "id": "Oz6ZOYT5jde-"
   },
   "source": [
    "We will tune the parameters optimizer, kernel_initializer and activation using Grid Search."
   ]
  },
  {
   "cell_type": "code",
   "execution_count": 84,
   "metadata": {
    "colab": {
     "base_uri": "https://localhost:8080/",
     "height": 34
    },
    "colab_type": "code",
    "id": "iqd8pUpo1vC3",
    "outputId": "e8b9bd6f-c30f-4325-e368-877abff2e31f"
   },
   "outputs": [
    {
     "name": "stdout",
     "output_type": "stream",
     "text": [
      "Number of different parameter combinations = 24\n"
     ]
    }
   ],
   "source": [
    "# fix random seed for reproducibility\n",
    "seed = 7\n",
    "np.random.seed(seed)\n",
    "\n",
    "# define the parameters\n",
    "optimizer = ['RMSprop', 'Adam', 'Adagrad', 'Nadam']\n",
    "kernel_initializer = ['normal', 'uniform']\n",
    "activation = ['relu', 'linear', 'tanh']\n",
    "\n",
    "param_grid = dict(optimizer=optimizer, kernel_initializer=kernel_initializer, activation=activation)\n",
    "\n",
    "# count number of different parameters values combinations\n",
    "parameters_number = 1\n",
    "for x in param_grid:\n",
    "  parameters_number = parameters_number * len(param_grid[x]) \n",
    "print(\"Number of different parameter combinations = {}\".format(parameters_number))"
   ]
  },
  {
   "cell_type": "markdown",
   "metadata": {
    "colab_type": "text",
    "id": "rn5e1UWniPmD"
   },
   "source": [
    "We will try different models with different parameters to find the best parameter values."
   ]
  },
  {
   "cell_type": "code",
   "execution_count": null,
   "metadata": {
    "colab": {
     "base_uri": "https://localhost:8080/",
     "height": 5341
    },
    "colab_type": "code",
    "collapsed": true,
    "id": "kbtGq865gbEW",
    "outputId": "628f25ba-bd1f-4101-f64b-00f07395a0e4"
   },
   "outputs": [],
   "source": [
    "epochs = 5\n",
    "batch_size = 20\n",
    "\n",
    "#creating the models with different hyperparameters\n",
    "for a,b,c in [(x,y,z) for x in optimizer for z in activation for y in kernel_initializer]:\n",
    "    params = {'optimizer' : a , 'kernel_initializer' : b , 'activation' : c}\n",
    "    print(params)\n",
    "    curr_model = create_model(a, b, c)\n",
    "    curr_model.fit(training_data_images, training_data_labels, \n",
    "                    validation_data=(testing_data_images, testing_data_labels),\n",
    "                    epochs=epochs, batch_size=batch_size, verbose=1)\n",
    "    print(\"=============================================================================\")"
   ]
  },
  {
   "cell_type": "markdown",
   "metadata": {},
   "source": [
    "**Considering the results above, it was found the the best parameters are:**\n",
    "* **Optimizer: Adam**\n",
    "* **Kernel_initializer: uniform**\n",
    "* **Activation: relu** "
   ]
  },
  {
   "cell_type": "code",
   "execution_count": 85,
   "metadata": {},
   "outputs": [],
   "source": [
    "#creating the model with the best parameters\n",
    "model = create_model(optimizer='Adam', kernel_initializer='uniform', activation='relu')"
   ]
  },
  {
   "cell_type": "markdown",
   "metadata": {},
   "source": [
    "## Training the Mode"
   ]
  },
  {
   "cell_type": "markdown",
   "metadata": {},
   "source": [
    "### Fitting the Model\n"
   ]
  },
  {
   "cell_type": "code",
   "execution_count": 86,
   "metadata": {},
   "outputs": [
    {
     "name": "stdout",
     "output_type": "stream",
     "text": [
      "Epoch 1/10\n",
      "3672/3672 [==============================] - ETA: 0s - loss: 0.3292 - accuracy: 0.9106\n",
      "Epoch 1: val_loss improved from inf to 0.24870, saving model to weights.hdf5\n",
      "3672/3672 [==============================] - 108s 29ms/step - loss: 0.3292 - accuracy: 0.9106 - val_loss: 0.2487 - val_accuracy: 0.9135\n",
      "Epoch 2/10\n",
      "3671/3672 [============================>.] - ETA: 0s - loss: 0.1079 - accuracy: 0.9676\n",
      "Epoch 2: val_loss improved from 0.24870 to 0.23943, saving model to weights.hdf5\n",
      "3672/3672 [==============================] - 135s 37ms/step - loss: 0.1079 - accuracy: 0.9676 - val_loss: 0.2394 - val_accuracy: 0.9509\n",
      "Epoch 3/10\n",
      "3671/3672 [============================>.] - ETA: 0s - loss: 0.0790 - accuracy: 0.9753\n",
      "Epoch 3: val_loss did not improve from 0.23943\n",
      "3672/3672 [==============================] - 110s 30ms/step - loss: 0.0789 - accuracy: 0.9754 - val_loss: 0.3824 - val_accuracy: 0.8706\n",
      "Epoch 4/10\n",
      "3670/3672 [============================>.] - ETA: 0s - loss: 0.0685 - accuracy: 0.9782\n",
      "Epoch 4: val_loss improved from 0.23943 to 0.07237, saving model to weights.hdf5\n",
      "3672/3672 [==============================] - 109s 30ms/step - loss: 0.0685 - accuracy: 0.9782 - val_loss: 0.0724 - val_accuracy: 0.9785\n",
      "Epoch 5/10\n",
      "3672/3672 [==============================] - ETA: 0s - loss: 0.0616 - accuracy: 0.9808\n",
      "Epoch 5: val_loss did not improve from 0.07237\n",
      "3672/3672 [==============================] - 120s 33ms/step - loss: 0.0616 - accuracy: 0.9808 - val_loss: 0.0942 - val_accuracy: 0.9756\n",
      "Epoch 6/10\n",
      "3672/3672 [==============================] - ETA: 0s - loss: 0.0537 - accuracy: 0.9834\n",
      "Epoch 6: val_loss did not improve from 0.07237\n",
      "3672/3672 [==============================] - 117s 32ms/step - loss: 0.0537 - accuracy: 0.9834 - val_loss: 0.0961 - val_accuracy: 0.9748\n",
      "Epoch 7/10\n",
      "3671/3672 [============================>.] - ETA: 0s - loss: 0.0508 - accuracy: 0.9833\n",
      "Epoch 7: val_loss improved from 0.07237 to 0.05179, saving model to weights.hdf5\n",
      "3672/3672 [==============================] - 131s 36ms/step - loss: 0.0508 - accuracy: 0.9833 - val_loss: 0.0518 - val_accuracy: 0.9853\n",
      "Epoch 8/10\n",
      "3672/3672 [==============================] - ETA: 0s - loss: 0.0474 - accuracy: 0.9848\n",
      "Epoch 8: val_loss did not improve from 0.05179\n",
      "3672/3672 [==============================] - 125s 34ms/step - loss: 0.0474 - accuracy: 0.9848 - val_loss: 0.0586 - val_accuracy: 0.9835\n",
      "Epoch 9/10\n",
      "3672/3672 [==============================] - ETA: 0s - loss: 0.0440 - accuracy: 0.9865\n",
      "Epoch 9: val_loss did not improve from 0.05179\n",
      "3672/3672 [==============================] - 121s 33ms/step - loss: 0.0440 - accuracy: 0.9865 - val_loss: 0.0706 - val_accuracy: 0.9808\n",
      "Epoch 10/10\n",
      "3672/3672 [==============================] - ETA: 0s - loss: 0.0410 - accuracy: 0.9869\n",
      "Epoch 10: val_loss did not improve from 0.05179\n",
      "3672/3672 [==============================] - 124s 34ms/step - loss: 0.0410 - accuracy: 0.9869 - val_loss: 0.0816 - val_accuracy: 0.9756\n"
     ]
    }
   ],
   "source": [
    "from keras.callbacks import ModelCheckpoint  \n",
    "\n",
    "#The ModelCheckpoint callback is being used to save the weights of the trained model to a file\n",
    "#This allows the model to be reused later without having to train it again. \n",
    "checkpointer = ModelCheckpoint(filepath='weights.hdf5', verbose=1, save_best_only=True)\n",
    "history = model.fit(training_data_images, training_data_labels, \n",
    "                    validation_data=(testing_data_images, testing_data_labels),\n",
    "                    epochs=10, batch_size=20, verbose=1, callbacks=[checkpointer])"
   ]
  },
  {
   "cell_type": "markdown",
   "metadata": {},
   "source": [
    "### Plotting Loss and Accuracy Curves with Epochs"
   ]
  },
  {
   "cell_type": "code",
   "execution_count": 58,
   "metadata": {},
   "outputs": [
    {
     "data": {
      "image/png": "[encoded data removed]",
      "text/plain": [
       "<Figure size 640x480 with 1 Axes>"
      ]
     },
     "metadata": {},
     "output_type": "display_data"
    },
    {
     "data": {
      "image/png": "[encoded data removed]",
      "text/plain": [
       "<Figure size 640x480 with 1 Axes>"
      ]
     },
     "metadata": {},
     "output_type": "display_data"
    }
   ],
   "source": [
    "import matplotlib.pyplot as plt\n",
    "\n",
    "# summarize history for accuracy\n",
    "plt.plot(history.history['accuracy'])\n",
    "plt.plot(history.history['val_accuracy'])\n",
    "plt.title('model accuracy')\n",
    "plt.ylabel('accuracy')\n",
    "plt.xlabel('epoch')\n",
    "plt.legend(['Train Accuracy', 'Validation Accuracy'], loc='upper left')\n",
    "plt.show()\n",
    "# summarize history for loss\n",
    "plt.plot(history.history['loss'])\n",
    "plt.plot(history.history['val_loss'])\n",
    "plt.title('model loss')\n",
    "plt.ylabel('loss')\n",
    "plt.xlabel('epoch')\n",
    "plt.legend(['Train Loss', 'Validation Loss'], loc='upper left')\n",
    "plt.show()"
   ]
  },
  {
   "cell_type": "markdown",
   "metadata": {},
   "source": [
    "### Load the Model with the Best Validation Loss\n"
   ]
  },
  {
   "cell_type": "code",
   "execution_count": 87,
   "metadata": {},
   "outputs": [],
   "source": [
    "model.load_weights('weights.hdf5')"
   ]
  },
  {
   "cell_type": "markdown",
   "metadata": {},
   "source": [
    "## Testing the Model"
   ]
  },
  {
   "cell_type": "code",
   "execution_count": 88,
   "metadata": {},
   "outputs": [
    {
     "name": "stdout",
     "output_type": "stream",
     "text": [
      "418/418 [==============================] - 4s 10ms/step - loss: 0.0518 - accuracy: 0.9853\n",
      "Test Accuracy: 0.9853271245956421\n",
      "Test Loss: 0.051788732409477234\n"
     ]
    }
   ],
   "source": [
    "# Final evaluation of the model\n",
    "metrics = model.evaluate(testing_data_images, testing_data_labels, verbose=1)\n",
    "print(\"Test Accuracy: {}\".format(metrics[1]))\n",
    "print(\"Test Loss: {}\".format(metrics[0]))"
   ]
  },
  {
   "cell_type": "markdown",
   "metadata": {},
   "source": [
    "## Training our best model with Increasing the number of epochs to see if we get a better accuracy"
   ]
  },
  {
   "cell_type": "code",
   "execution_count": 89,
   "metadata": {
    "scrolled": false
   },
   "outputs": [
    {
     "name": "stdout",
     "output_type": "stream",
     "text": [
      "Epoch 1/15\n",
      "3670/3672 [============================>.] - ETA: 0s - loss: 0.0473 - accuracy: 0.9850\n",
      "Epoch 1: val_loss improved from inf to 0.25041, saving model to weights.hdf5\n",
      "3672/3672 [==============================] - 104s 28ms/step - loss: 0.0473 - accuracy: 0.9850 - val_loss: 0.2504 - val_accuracy: 0.9263\n",
      "Epoch 2/15\n",
      "3670/3672 [============================>.] - ETA: 0s - loss: 0.0450 - accuracy: 0.9855\n",
      "Epoch 2: val_loss improved from 0.25041 to 0.06800, saving model to weights.hdf5\n",
      "3672/3672 [==============================] - 106s 29ms/step - loss: 0.0450 - accuracy: 0.9856 - val_loss: 0.0680 - val_accuracy: 0.9793\n",
      "Epoch 3/15\n",
      "3671/3672 [============================>.] - ETA: 0s - loss: 0.0427 - accuracy: 0.9865\n",
      "Epoch 3: val_loss improved from 0.06800 to 0.05378, saving model to weights.hdf5\n",
      "3672/3672 [==============================] - 103s 28ms/step - loss: 0.0427 - accuracy: 0.9865 - val_loss: 0.0538 - val_accuracy: 0.9845\n",
      "Epoch 4/15\n",
      "3670/3672 [============================>.] - ETA: 0s - loss: 0.0401 - accuracy: 0.9873\n",
      "Epoch 4: val_loss did not improve from 0.05378\n",
      "3672/3672 [==============================] - 103s 28ms/step - loss: 0.0401 - accuracy: 0.9873 - val_loss: 0.0673 - val_accuracy: 0.9791\n",
      "Epoch 5/15\n",
      "3672/3672 [==============================] - ETA: 0s - loss: 0.0391 - accuracy: 0.9877\n",
      "Epoch 5: val_loss did not improve from 0.05378\n",
      "3672/3672 [==============================] - 106s 29ms/step - loss: 0.0391 - accuracy: 0.9877 - val_loss: 0.0545 - val_accuracy: 0.9848\n",
      "Epoch 6/15\n",
      "3672/3672 [==============================] - ETA: 0s - loss: 0.0362 - accuracy: 0.9882\n",
      "Epoch 6: val_loss did not improve from 0.05378\n",
      "3672/3672 [==============================] - 115s 31ms/step - loss: 0.0362 - accuracy: 0.9882 - val_loss: 0.0542 - val_accuracy: 0.9845\n",
      "Epoch 7/15\n",
      "3672/3672 [==============================] - ETA: 0s - loss: 0.0351 - accuracy: 0.9886\n",
      "Epoch 7: val_loss did not improve from 0.05378\n",
      "3672/3672 [==============================] - 114s 31ms/step - loss: 0.0351 - accuracy: 0.9886 - val_loss: 0.0842 - val_accuracy: 0.9728\n",
      "Epoch 8/15\n",
      "3671/3672 [============================>.] - ETA: 0s - loss: 0.0346 - accuracy: 0.9890\n",
      "Epoch 8: val_loss did not improve from 0.05378\n",
      "3672/3672 [==============================] - 112s 30ms/step - loss: 0.0346 - accuracy: 0.9890 - val_loss: 0.0834 - val_accuracy: 0.9763\n",
      "Epoch 9/15\n",
      "3672/3672 [==============================] - ETA: 0s - loss: 0.0342 - accuracy: 0.9890\n",
      "Epoch 9: val_loss did not improve from 0.05378\n",
      "3672/3672 [==============================] - 117s 32ms/step - loss: 0.0342 - accuracy: 0.9890 - val_loss: 0.0539 - val_accuracy: 0.9847\n",
      "Epoch 10/15\n",
      "3672/3672 [==============================] - ETA: 0s - loss: 0.0317 - accuracy: 0.9900\n",
      "Epoch 10: val_loss did not improve from 0.05378\n",
      "3672/3672 [==============================] - 145s 40ms/step - loss: 0.0317 - accuracy: 0.9900 - val_loss: 0.0600 - val_accuracy: 0.9835\n",
      "Epoch 11/15\n",
      "3672/3672 [==============================] - ETA: 0s - loss: 0.0324 - accuracy: 0.9896\n",
      "Epoch 11: val_loss did not improve from 0.05378\n",
      "3672/3672 [==============================] - 191s 52ms/step - loss: 0.0324 - accuracy: 0.9896 - val_loss: 0.0583 - val_accuracy: 0.9833\n",
      "Epoch 12/15\n",
      "3672/3672 [==============================] - ETA: 0s - loss: 0.0312 - accuracy: 0.9897\n",
      "Epoch 12: val_loss did not improve from 0.05378\n",
      "3672/3672 [==============================] - 443s 121ms/step - loss: 0.0312 - accuracy: 0.9897 - val_loss: 0.9012 - val_accuracy: 0.7663\n",
      "Epoch 13/15\n",
      "3672/3672 [==============================] - ETA: 0s - loss: 0.0297 - accuracy: 0.9902\n",
      "Epoch 13: val_loss did not improve from 0.05378\n",
      "3672/3672 [==============================] - 495s 135ms/step - loss: 0.0297 - accuracy: 0.9902 - val_loss: 0.0544 - val_accuracy: 0.9836\n",
      "Epoch 14/15\n",
      "3672/3672 [==============================] - ETA: 0s - loss: 0.0279 - accuracy: 0.9909\n",
      "Epoch 14: val_loss did not improve from 0.05378\n",
      "3672/3672 [==============================] - 488s 133ms/step - loss: 0.0279 - accuracy: 0.9909 - val_loss: 0.0621 - val_accuracy: 0.9832\n",
      "Epoch 15/15\n",
      "3672/3672 [==============================] - ETA: 0s - loss: 0.0293 - accuracy: 0.9906\n",
      "Epoch 15: val_loss improved from 0.05378 to 0.04570, saving model to weights.hdf5\n",
      "3672/3672 [==============================] - 425s 116ms/step - loss: 0.0293 - accuracy: 0.9906 - val_loss: 0.0457 - val_accuracy: 0.9877\n"
     ]
    }
   ],
   "source": [
    "epochs = 15\n",
    "batch_size = 20\n",
    "\n",
    "checkpointer = ModelCheckpoint(filepath='weights.hdf5', verbose=1, save_best_only=True)\n",
    "\n",
    "history = model.fit(training_data_images, training_data_labels, \n",
    "                    validation_data=(testing_data_images, testing_data_labels),\n",
    "                    epochs=epochs, batch_size=batch_size, verbose=1, callbacks=[checkpointer])\n",
    "          \n",
    "model.load_weights('weights.hdf5')"
   ]
  },
  {
   "cell_type": "markdown",
   "metadata": {},
   "source": [
    "## Testing our model after training on 15 epochs"
   ]
  },
  {
   "cell_type": "code",
   "execution_count": 91,
   "metadata": {},
   "outputs": [
    {
     "name": "stdout",
     "output_type": "stream",
     "text": [
      "418/418 [==============================] - 7s 17ms/step - loss: 0.0457 - accuracy: 0.9877\n",
      "Test Accuracy: 0.9877226948738098\n",
      "Test Loss: 0.045695479959249496\n"
     ]
    }
   ],
   "source": [
    "# Final evaluation of the model\n",
    "metrics = model.evaluate(testing_data_images, testing_data_labels, verbose=1)\n",
    "print(\"Test Accuracy: {}\".format(metrics[1]))\n",
    "print(\"Test Loss: {}\".format(metrics[0]))"
   ]
  },
  {
   "cell_type": "markdown",
   "metadata": {},
   "source": [
    "After training the model on more 15 epochs we got a better accuracy . Also the test accuracy imorpved from from **98.286% to 98.82%** and we think that increasing the number of epochs even more may slightly improve the accuracy \n",
    "\n",
    "\n"
   ]
  },
  {
   "cell_type": "code",
   "execution_count": 30,
   "metadata": {},
   "outputs": [],
   "source": [
    "model_json =model.to_json()\n",
    "with open(\"model.json\", \"w\") as json_file:\n",
    "    json_file.write(model_json)"
   ]
  },
  {
   "cell_type": "code",
   "execution_count": 31,
   "metadata": {},
   "outputs": [
    {
     "name": "stdout",
     "output_type": "stream",
     "text": [
      "Saved model to disk\n"
     ]
    }
   ],
   "source": [
    "model.save_weights(\"model.h5\")\n",
    "print(\"Saved model to disk\")"
   ]
  },
  {
   "cell_type": "markdown",
   "metadata": {},
   "source": [
    "## Comparing our model with simple vanilla cnn model on the same data"
   ]
  },
  {
   "cell_type": "code",
   "execution_count": 32,
   "metadata": {},
   "outputs": [
    {
     "name": "stdout",
     "output_type": "stream",
     "text": [
      "Epoch 1/5\n",
      "3672/3672 [==============================] - 54s 15ms/step - loss: 2.6643 - accuracy: 0.1925 - val_loss: 2.6803 - val_accuracy: 0.2229\n",
      "Epoch 2/5\n",
      "3672/3672 [==============================] - 25s 7ms/step - loss: 2.4494 - accuracy: 0.2485 - val_loss: 2.6019 - val_accuracy: 0.2251\n",
      "Epoch 3/5\n",
      "3672/3672 [==============================] - 25s 7ms/step - loss: 2.4092 - accuracy: 0.2480 - val_loss: 2.5772 - val_accuracy: 0.2265\n",
      "Epoch 4/5\n",
      "3672/3672 [==============================] - 26s 7ms/step - loss: 2.3927 - accuracy: 0.2512 - val_loss: 2.5632 - val_accuracy: 0.2253\n",
      "Epoch 5/5\n",
      "3672/3672 [==============================] - 26s 7ms/step - loss: 2.3836 - accuracy: 0.2540 - val_loss: 2.5566 - val_accuracy: 0.2315\n",
      "418/418 [==============================] - 1s 3ms/step - loss: 2.5566 - accuracy: 0.2315\n",
      "Model Test Accuracy: 0.23147177696228027\n",
      "Model Test Loss: 2.556628942489624\n"
     ]
    }
   ],
   "source": [
    "from keras.models import Sequential\n",
    "from keras.layers import Conv2D, GlobalAveragePooling2D, Dense\n",
    "\n",
    "def create_model():\n",
    "    # Define the vanilla model architecture\n",
    "    vanillaModel = Sequential()\n",
    "    vanillaModel.add(Conv2D(filters=16, kernel_size=3, padding='same', input_shape=(64, 64, 1), activation='relu')) # Input layer\n",
    "    vanillaModel.add(GlobalAveragePooling2D())\n",
    "    vanillaModel.add(Dense(38, activation = 'softmax')) # Output layer => output dimension = 38 as it is multi-class\n",
    "\n",
    "    # Compile the model\n",
    "    vanillaModel.compile(loss='categorical_crossentropy', metrics=['accuracy'], optimizer='Adam')\n",
    "    return vanillaModel\n",
    "\n",
    "def train_model(model, train_images, train_labels, epochs, batch_size, test_images, test_labels):\n",
    "    # Train the model\n",
    "    history = model.fit(train_images, train_labels, \n",
    "                  validation_data=(test_images, test_labels),\n",
    "                  epochs=epochs, batch_size=batch_size, verbose=1)\n",
    "\n",
    "    # Evaluate the model on the test set\n",
    "    metrics = model.evaluate(test_images, test_labels, verbose=1)\n",
    "    print(\"Model Test Accuracy: {}\".format(metrics[1]))\n",
    "    print(\"Model Test Loss: {}\".format(metrics[0]))\n",
    "    return history\n",
    "\n",
    "# Train the vanilla model using the created functions\n",
    "epochs = 5\n",
    "batch_size = 20\n",
    "vanillaModel = create_model()\n",
    "history = train_model(vanillaModel, training_data_images, training_data_labels, epochs, batch_size, testing_data_images, testing_data_labels)"
   ]
  },
  {
   "cell_type": "markdown",
   "metadata": {},
   "source": [
    "We get test accuracy of **23.15%** from the baseline Model (vanilla). so our project outperfomed it as our test accuracy were **98.82%**"
   ]
  },
  {
   "cell_type": "markdown",
   "metadata": {},
   "source": [
    "## Predict Image Classes"
   ]
  },
  {
   "cell_type": "code",
   "execution_count": 98,
   "metadata": {},
   "outputs": [],
   "source": [
    "import numpy as np\n",
    "# getting the predictions and true labels for the input data of the model \n",
    "def get_predicted_classes(model, data, labels=None):\n",
    "    image_predictions = model.predict(data)\n",
    "    predicted_classes = np.argmax(image_predictions, axis=1)\n",
    "    if labels is not None:\n",
    "        true_classes = np.argmax(labels, axis=1)\n",
    "    return predicted_classes, true_classes"
   ]
  },
  {
   "cell_type": "markdown",
   "metadata": {},
   "source": [
    "## Comparing Evaluation Metrics between Vanilla CNN Model and Our Final Model\n"
   ]
  },
  {
   "cell_type": "code",
   "execution_count": 49,
   "metadata": {},
   "outputs": [
    {
     "name": "stdout",
     "output_type": "stream",
     "text": [
      "Requirement already satisfied: joblib in c:\\users\\lenovo\\anaconda3\\lib\\site-packages (1.2.0)\n",
      "Requirement already satisfied: threadpoolctl in c:\\users\\lenovo\\anaconda3\\lib\\site-packages (3.1.0)\n"
     ]
    }
   ],
   "source": [
    "!pip install joblib\n",
    "!pip install threadpoolctl"
   ]
  },
  {
   "cell_type": "code",
   "execution_count": 50,
   "metadata": {},
   "outputs": [],
   "source": [
    "from sklearn.metrics import classification_report\n",
    "# import joblib\n",
    "\n",
    "def get_classification_report(y_true, y_pred):\n",
    "  print(classification_report(y_true, y_pred))"
   ]
  },
  {
   "cell_type": "code",
   "execution_count": 51,
   "metadata": {},
   "outputs": [
    {
     "name": "stdout",
     "output_type": "stream",
     "text": [
      "418/418 [==============================] - 4s 9ms/step\n",
      "              precision    recall  f1-score   support\n",
      "\n",
      "           0       1.00      0.97      0.98       999\n",
      "           1       0.99      1.00      0.99      1000\n",
      "           2       0.98      1.00      0.99      1000\n",
      "           3       1.00      0.99      0.99      1000\n",
      "           4       1.00      1.00      1.00      1000\n",
      "           5       0.99      0.99      0.99      1000\n",
      "           6       0.99      0.99      0.99      1000\n",
      "           7       1.00      1.00      1.00      1000\n",
      "           8       0.99      1.00      1.00      1000\n",
      "           9       1.00      1.00      1.00      1000\n",
      "          10       0.98      1.00      0.99       119\n",
      "          11       1.00      0.99      1.00       120\n",
      "          12       0.90      0.97      0.94       120\n",
      "          13       0.99      0.92      0.95       120\n",
      "          14       0.98      0.99      0.99       120\n",
      "          15       0.96      0.98      0.97       120\n",
      "          16       1.00      0.97      0.99       120\n",
      "          17       0.91      0.99      0.95       120\n",
      "          18       0.96      0.91      0.93       120\n",
      "          19       0.94      0.93      0.94       120\n",
      "          20       0.96      0.88      0.92       120\n",
      "          21       0.98      0.96      0.97       120\n",
      "          22       0.99      0.97      0.98       120\n",
      "          23       0.91      1.00      0.95       120\n",
      "          24       1.00      0.88      0.93       120\n",
      "          25       0.96      1.00      0.98       120\n",
      "          26       0.99      0.96      0.97       120\n",
      "          27       0.98      1.00      0.99       120\n",
      "          28       1.00      0.99      1.00       120\n",
      "          29       0.82      1.00      0.90       120\n",
      "          30       1.00      0.83      0.91       120\n",
      "          31       0.96      1.00      0.98       120\n",
      "          32       0.96      1.00      0.98       120\n",
      "          33       1.00      0.98      0.99       120\n",
      "          34       0.98      0.94      0.96       120\n",
      "          35       0.99      0.97      0.98       120\n",
      "          36       0.95      0.98      0.97       120\n",
      "          37       1.00      0.99      1.00       120\n",
      "\n",
      "    accuracy                           0.99     13358\n",
      "   macro avg       0.97      0.97      0.97     13358\n",
      "weighted avg       0.99      0.99      0.99     13358\n",
      "\n"
     ]
    }
   ],
   "source": [
    "y_pred, y_true = get_predicted_classes(model, testing_data_images, testing_data_labels)\n",
    "get_classification_report(y_true, y_pred)"
   ]
  },
  {
   "cell_type": "code",
   "execution_count": 52,
   "metadata": {},
   "outputs": [
    {
     "name": "stdout",
     "output_type": "stream",
     "text": [
      "418/418 [==============================] - 1s 3ms/step\n",
      "              precision    recall  f1-score   support\n",
      "\n",
      "           0       0.79      0.75      0.77       999\n",
      "           1       0.20      0.76      0.32      1000\n",
      "           2       0.12      0.30      0.18      1000\n",
      "           3       0.00      0.00      0.00      1000\n",
      "           4       0.13      0.18      0.15      1000\n",
      "           5       0.43      0.50      0.46      1000\n",
      "           6       0.14      0.29      0.19      1000\n",
      "           7       0.00      0.00      0.00      1000\n",
      "           8       0.18      0.29      0.23      1000\n",
      "           9       0.00      0.00      0.00      1000\n",
      "          10       0.00      0.00      0.00       119\n",
      "          11       0.00      0.00      0.00       120\n",
      "          12       0.00      0.00      0.00       120\n",
      "          13       0.00      0.00      0.00       120\n",
      "          14       0.00      0.00      0.00       120\n",
      "          15       0.00      0.00      0.00       120\n",
      "          16       0.00      0.00      0.00       120\n",
      "          17       0.30      0.17      0.22       120\n",
      "          18       0.00      0.00      0.00       120\n",
      "          19       0.00      0.00      0.00       120\n",
      "          20       0.00      0.00      0.00       120\n",
      "          21       0.00      0.00      0.00       120\n",
      "          22       0.00      0.00      0.00       120\n",
      "          23       0.00      0.00      0.00       120\n",
      "          24       0.00      0.00      0.00       120\n",
      "          25       0.00      0.00      0.00       120\n",
      "          26       0.00      0.00      0.00       120\n",
      "          27       0.00      0.00      0.00       120\n",
      "          28       0.00      0.00      0.00       120\n",
      "          29       0.00      0.00      0.00       120\n",
      "          30       0.00      0.00      0.00       120\n",
      "          31       0.00      0.00      0.00       120\n",
      "          32       0.00      0.00      0.00       120\n",
      "          33       0.00      0.00      0.00       120\n",
      "          34       0.00      0.00      0.00       120\n",
      "          35       0.00      0.00      0.00       120\n",
      "          36       0.00      0.00      0.00       120\n",
      "          37       0.00      0.00      0.00       120\n",
      "\n",
      "    accuracy                           0.23     13358\n",
      "   macro avg       0.06      0.09      0.07     13358\n",
      "weighted avg       0.15      0.23      0.17     13358\n",
      "\n"
     ]
    },
    {
     "name": "stderr",
     "output_type": "stream",
     "text": [
      "C:\\Users\\lenovo\\AppData\\Roaming\\Python\\Python38\\site-packages\\sklearn\\metrics\\_classification.py:1334: UndefinedMetricWarning: Precision and F-score are ill-defined and being set to 0.0 in labels with no predicted samples. Use `zero_division` parameter to control this behavior.\n",
      "  _warn_prf(average, modifier, msg_start, len(result))\n",
      "C:\\Users\\lenovo\\AppData\\Roaming\\Python\\Python38\\site-packages\\sklearn\\metrics\\_classification.py:1334: UndefinedMetricWarning: Precision and F-score are ill-defined and being set to 0.0 in labels with no predicted samples. Use `zero_division` parameter to control this behavior.\n",
      "  _warn_prf(average, modifier, msg_start, len(result))\n",
      "C:\\Users\\lenovo\\AppData\\Roaming\\Python\\Python38\\site-packages\\sklearn\\metrics\\_classification.py:1334: UndefinedMetricWarning: Precision and F-score are ill-defined and being set to 0.0 in labels with no predicted samples. Use `zero_division` parameter to control this behavior.\n",
      "  _warn_prf(average, modifier, msg_start, len(result))\n"
     ]
    }
   ],
   "source": [
    "y_pred, y_true = get_predicted_classes(vanillaModel, testing_data_images, testing_data_labels)\n",
    "get_classification_report(y_true, y_pred)"
   ]
  }
 ],
 "metadata": {
  "accelerator": "GPU",
  "colab": {
   "collapsed_sections": [],
   "name": "Copy of Arabic Handwritten Recognition.ipynb",
   "provenance": [],
   "toc_visible": true
  },
  "kernelspec": {
   "display_name": "Python 3 (ipykernel)",
   "language": "python",
   "name": "python3"
  },
  "language_info": {
   "codemirror_mode": {
    "name": "ipython",
    "version": 3
   },
   "file_extension": ".py",
   "mimetype": "text/x-python",
   "name": "python",
   "nbconvert_exporter": "python",
   "pygments_lexer": "ipython3",
   "version": "3.8.16"
  }
 },
 "nbformat": 4,
 "nbformat_minor": 1
}
